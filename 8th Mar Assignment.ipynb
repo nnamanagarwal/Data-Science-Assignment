{
 "cells": [
  {
   "cell_type": "markdown",
   "id": "e378cd10-02d4-4e27-aad1-a0fae5d62f7d",
   "metadata": {},
   "source": [
    "### Q1. What is the Probability density function?"
   ]
  },
  {
   "cell_type": "markdown",
   "id": "75681b59-38bf-43fd-971c-e897270d8bb4",
   "metadata": {},
   "source": [
    "- Probability density function (PDF) is a function that describes the relative likelihood of a continuous random variable taking on a certain value.\n",
    "- The area under the PDF curve between two points represents the probability of the random variable taking on a value within that range. The total area under the curve is always equal to 1.\n",
    "- The PDF is defined as the derivative of the cumulative distribution function (CDF) of a continuous random variable\n",
    "Formula of PDF\n",
    "\n",
    "f(x) = dF(X)/dx\n",
    "\n",
    "where, f(x) = probablity density at a specific point x and F(x) = cummulative distribution function of x"
   ]
  },
  {
   "cell_type": "markdown",
   "id": "66e7c89d-362c-4c4d-9db4-d2071da14d2e",
   "metadata": {},
   "source": [
    "### Q2. What are the types of Probability distribution?"
   ]
  },
  {
   "cell_type": "markdown",
   "id": "b9a95cdf-6e48-42be-917e-3ce734865131",
   "metadata": {},
   "source": [
    "Probability distributions can be divided into two broad categories, Discrete probability distributions and Continuous probability distributions.\n",
    "\n",
    "#### Discrete probability distributions: These distributions represent random variables that can only take on a countable number of values.\n",
    "\n",
    "- Probability distribution functions for discrete random variables:\n",
    "1. Bernoulli distribution\n",
    "2. Binomial distribution\n",
    "3. Poisson distribution\n",
    "4. Geometric distribution\n",
    "5. Negative binomial distribution\n",
    "6. Hypergeometric distribution\n",
    "7. Uniform distribution\n",
    "\n",
    "#### Continuous probability distributions: These distributions represent random variables that can take on any value within a continuous range.\n",
    "\n",
    "- Probability distribution functions for continuous random variables:\n",
    "1. Normal distribution\n",
    "2. Exponential distribution\n",
    "3. Gamma distribution\n",
    "4. Beta distribution\n",
    "5. Weibull distribution\n",
    "6. Log-normal distribution\n",
    "7. Student's t-distribution\n",
    "8. Chi-squared distribution"
   ]
  },
  {
   "cell_type": "markdown",
   "id": "f2d27d43-a5c8-4e88-ac29-7cb20b612c6f",
   "metadata": {},
   "source": [
    "### Q3. Write a Python function to calculate the probability density function of a normal distribution with given mean and standard deviation at a given point."
   ]
  },
  {
   "cell_type": "code",
   "execution_count": 1,
   "id": "87e99bff-86b4-48d9-b3be-6a78575b41df",
   "metadata": {},
   "outputs": [],
   "source": [
    "# importing numpy\n",
    "import numpy as np\n",
    "\n",
    "# making a function for pdf of normal distribution\n",
    "def pdf_norm( mean , std , x):\n",
    "    \n",
    "    # as per formula of pdf of normal distribution\n",
    "    coefficient = 1/(std*(2*np.pi)**0.5)\n",
    "    exponent = np.exp(-1/2*((x-mean)/std)**2)\n",
    "    \n",
    "    pdf = coefficient * exponent\n",
    "    return pdf"
   ]
  },
  {
   "cell_type": "code",
   "execution_count": 2,
   "id": "1dec50e3-8ae1-4191-b64c-9d991da941fd",
   "metadata": {},
   "outputs": [
    {
     "data": {
      "text/plain": [
       "0.10648266850745075"
      ]
     },
     "execution_count": 2,
     "metadata": {},
     "output_type": "execute_result"
    }
   ],
   "source": [
    "pdf_norm(2,3,4)"
   ]
  },
  {
   "cell_type": "markdown",
   "id": "f7fc93fc-213e-42d3-b31e-bd0b15ae2338",
   "metadata": {},
   "source": [
    "### Q4. What are the properties of Binomial distribution? Give two examples of events where binomial  distribution can be applied."
   ]
  },
  {
   "cell_type": "markdown",
   "id": "efdcde9d-3f96-4e3d-9085-14e1499ce5e6",
   "metadata": {},
   "source": [
    "The binomial distribution is a discrete probability distribution that describes the number of successes in a fixed number of independent trials, where each trial has only two possible outcomes (often referred to as \"success\" and \"failure\") and the probability of success is constant for each trial. Some properties of the binomial distribution include:\n",
    "\n",
    "- The mean of the distribution is given by the formula np, where n is the number of trials and p is the probability of success in each trial.\n",
    "- The variance of the distribution is given by the formula np(1-p).\n",
    "- The shape of the distribution is bell-shaped for large values of n, and becomes increasingly symmetric as n increases\n",
    "Examples of events where binomial distribution can be applied include:\n",
    "\n",
    "Tossing a coin: When we toss a coin, the outcome can be either heads or tails. Suppose we toss a fair coin 10 times, and we want to know the probability of getting exactly 5 heads. This is an example of a binomial distribution, where each trial has two possible outcomes (heads or tails), and the probability of heads (p) is 0.5 for each trial.\n",
    "\n",
    "Drug trials: In clinical trials of new drugs, the researchers often want to know the probability of a certain outcome (e.g. a certain percentage of patients showing improvement) when the drug is administered. This can be modeled using a binomial distribution, where each patient is considered a trial and the outcome (improvement or not) is the \"success\" or \"failure\" in each trial."
   ]
  },
  {
   "cell_type": "markdown",
   "id": "323e601e-96c5-480c-89c2-73f8250b05ec",
   "metadata": {},
   "source": [
    "### Q5. Generate a random sample of size 1000 from a binomial distribution with probability of success 0.4 and plot a histogram of the results using matplotlib."
   ]
  },
  {
   "cell_type": "code",
   "execution_count": null,
   "id": "0e99a11a-1898-444c-af43-4e03c208f520",
   "metadata": {},
   "outputs": [
    {
     "data": {
      "image/png": "[encoded data removed]",
      "text/plain": [
       "<Figure size 640x480 with 1 Axes>"
      ]
     },
     "metadata": {},
     "output_type": "display_data"
    }
   ],
   "source": [
    "import numpy as np\n",
    "import matplotlib.pyplot as plt\n",
    "# sample size\n",
    "s = 1000 \n",
    "\n",
    "# number of trails\n",
    "n= s\n",
    "\n",
    "# probablity of success\n",
    "p=0.4\n",
    "\n",
    "# generating random sample data\n",
    "data = np.random.binomial(n, p, size=s)\n",
    "\n",
    "# plotting data\n",
    "plt.hist(data, bins=20)\n",
    "plt.title('Binomial Distribution')\n",
    "plt.show()"
   ]
  },
  {
   "cell_type": "markdown",
   "id": "3f027433-79a6-4abc-a018-110c207c9f52",
   "metadata": {},
   "source": [
    "### Q6. Write a Python function to calculate the cumulative distribution function of a Poisson distribution with given mean at a given point."
   ]
  },
  {
   "cell_type": "code",
   "execution_count": 2,
   "id": "5ff5aa84-1966-4a14-bdb1-96597366a320",
   "metadata": {},
   "outputs": [
    {
     "data": {
      "text/plain": [
       "0.9982483774437092"
      ]
     },
     "execution_count": 2,
     "metadata": {},
     "output_type": "execute_result"
    }
   ],
   "source": [
    "# importing poisson lib \n",
    "from scipy.stats import poisson\n",
    "\n",
    "# making a fun, for cdf of a poisson dist.\n",
    "def cdf_poisson(x, mean):\n",
    "    cdf = poisson.cdf(x, mean)\n",
    "    return cdf\n",
    "cdf_poisson(3, 0.5)"
   ]
  },
  {
   "cell_type": "markdown",
   "id": "c6d9909f-7f0c-4039-8648-7b84e3c54884",
   "metadata": {},
   "source": [
    "### Q7. How Binomial distribution different from Poisson distribution?"
   ]
  },
  {
   "cell_type": "markdown",
   "id": "95f751a8-6fd8-4554-8405-ed36bdbc5ef9",
   "metadata": {},
   "source": [
    "The Binomial distribution and Poisson distribution are different in several factors:\n",
    "\n",
    "- Probability of success: In the Binomial distribution, the probability of success remains constant for all trials, while in the Poisson distribution, the probability of occurrence is constant over a given interval.\n",
    "\n",
    "- Number of trials: The Binomial distribution is used when there is a fixed number of independent trials, while the Poisson distribution is used to model the number of events in a fixed interval of time or space.\n",
    "\n",
    "- Range of values: The Binomial distribution has a finite range of values, while the Poisson distribution has an infinite range of values.\n",
    "\n",
    "- Assumptions: The Binomial distribution assumes that each trial is independent and that the probability of success remains constant for all trials. The Poisson distribution assumes that the events occur randomly and independently in time or space.\n",
    "\n",
    "- Mean and variance: The mean and variance of the Binomial distribution are both dependent on the number of trials and the probability of success, while in the Poisson distribution, the mean and variance are equal and dependent only on the rate of occurrence.\n",
    "\n",
    "- Applications: The Binomial distribution is commonly used in experiments involving binary outcomes, such as coin flips or medical trials. The Poisson distribution is used in modeling the occurrence of rare events, such as earthquakes, accidents, or defects in a product."
   ]
  },
  {
   "cell_type": "markdown",
   "id": "674a6685-5e9f-445a-912c-db63bded121c",
   "metadata": {},
   "source": [
    "### Q8. Generate a random sample of size 1000 from a Poisson distribution with mean 5 and calculate the sample mean and variance."
   ]
  },
  {
   "cell_type": "code",
   "execution_count": 3,
   "id": "05a9da4e-82d6-491a-95f7-388a367d78e5",
   "metadata": {},
   "outputs": [
    {
     "name": "stdout",
     "output_type": "stream",
     "text": [
      "Sample Mean is 4.875\n",
      "Variance is 5.319375\n"
     ]
    }
   ],
   "source": [
    "#importing numpy \n",
    "import numpy as np\n",
    "\n",
    "mean = 5\n",
    "size = 1000\n",
    "#generating poisson distribution data \n",
    "poisson_distribution = np.random.poisson(mean, size=size)\n",
    "\n",
    "mean_of_dis = np.mean(poisson_distribution)\n",
    "var_of_dis = np.var(poisson_distribution)\n",
    "\n",
    "print(f'Sample Mean is {mean_of_dis}\\nVariance is {var_of_dis}')"
   ]
  },
  {
   "cell_type": "markdown",
   "id": "68f8c563-ca75-4027-9c48-73d26e4f5811",
   "metadata": {},
   "source": [
    "### Q9. How mean and variance are related in Binomial distribution and Poisson distribution?"
   ]
  },
  {
   "cell_type": "markdown",
   "id": "4ce0e327-6e31-42e0-861f-cf21ccd50ce1",
   "metadata": {},
   "source": [
    "Case 1: Binomial Distribution\n",
    "\n",
    "- mean = n * p\n",
    "- variance = n * p * (1 - p)\n",
    "where n is the number of trials, and p is the probability of success on each trial.\n",
    "\n",
    "The mean represents the expected number of successes in n trials, while the variance measures the spread of the distribution around the mean. The formula shows that the variance is directly proportional to the product of n, p, and (1-p). As p approaches 0 or 1, the variance decreases, indicating that the distribution becomes more concentrated around the mean. Conversely, as p approaches 0.5, the variance increases, indicating that the distribution becomes more spread out.\n",
    "\n",
    "Case 2: Poisson Distribution\n",
    "\n",
    "In Poisson distribution, the mean and variance are equal and are both equal to the parameter λ, which represents the average rate of occurrence of the event in a fixed interval of time or space.\n",
    "\n",
    "The formula for the mean and variance of a Poisson distribution is:\n",
    "\n",
    "- mean = λ\n",
    "- varience = λ\n",
    "This means that the mean and variance are directly proportional to the parameter λ. As λ increases, both the mean and variance increase as well. When λ is small, the Poisson distribution is skewed to the right, while when λ is large, the distribution becomes more symmetric and bell-shaped."
   ]
  },
  {
   "cell_type": "markdown",
   "id": "693992c0-f2b4-409a-b705-fa318fc2dff8",
   "metadata": {},
   "source": [
    "### Q10. In normal distribution with respect to mean position, where does the least frequent data appear?"
   ]
  },
  {
   "cell_type": "markdown",
   "id": "d4fc67c1-fc04-4c28-a568-7142330725ee",
   "metadata": {},
   "source": [
    "In a normal distribution, the least frequent data appears at the tails of the distribution, which are located at the extreme ends of the distribution away from the mean.\n",
    "\n",
    "In a standard normal distribution (mean=0, standard deviation=1), the least frequent data would appear at the tails that are 2 or more standard deviations away from the mean. Approximately 2.5% of the data lies more than 2 standard deviations below the mean, and another 2.5% lies more than 2 standard deviations above the mean."
   ]
  },
  {
   "cell_type": "code",
   "execution_count": null,
   "id": "d5932814-6304-4b51-9462-71ada848b5d6",
   "metadata": {},
   "outputs": [],
   "source": []
  }
 ],
 "metadata": {
  "kernelspec": {
   "display_name": "Python 3 (ipykernel)",
   "language": "python",
   "name": "python3"
  },
  "language_info": {
   "codemirror_mode": {
    "name": "ipython",
    "version": 3
   },
   "file_extension": ".py",
   "mimetype": "text/x-python",
   "name": "python",
   "nbconvert_exporter": "python",
   "pygments_lexer": "ipython3",
   "version": "3.10.8"
  }
 },
 "nbformat": 4,
 "nbformat_minor": 5
}
