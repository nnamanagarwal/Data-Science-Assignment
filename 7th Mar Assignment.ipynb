{
 "cells": [
  {
   "cell_type": "markdown",
   "id": "51ba8452-215b-4cba-9766-32799f774736",
   "metadata": {},
   "source": [
    "### Q1. What are the three measures of central tendency?"
   ]
  },
  {
   "cell_type": "markdown",
   "id": "f60bd693-9d81-4f35-9ad2-4c02db34b5bd",
   "metadata": {},
   "source": [
    "The three measures of central tendency are:\n",
    "\n",
    "1. Mean: It is calculated by summing up all the values in a dataset and dividing by the total number of values. It is the most commonly used measure of central tendency.\n",
    "\n",
    "2. Median: It is the middle value in a dataset when the values are arranged in order. If the dataset has an even number of values, then the median is the average of the two middle values.\n",
    "\n",
    "3. Mode: It is the value that appears most frequently in a dataset. A dataset may have one mode (unimodal) or more than one mode (multimodal)."
   ]
  },
  {
   "cell_type": "markdown",
   "id": "f24ac1be-ec50-4e25-9768-6bf7ddb9c300",
   "metadata": {},
   "source": [
    "### Q2. What is the difference between the mean, median, and mode? How are they used to measure the central tendency of a dataset?"
   ]
  },
  {
   "cell_type": "markdown",
   "id": "e4634352-e413-420d-8971-4a71100d0c6d",
   "metadata": {},
   "source": [
    "The mean, median, and mode are all measures of central tendency used to describe the \"average\" value in a dataset, but they are calculated differently and have different interpretations:\n",
    "\n",
    "1. Mean represents the \"average\" value of the dataset and is sensitive to outliers or extreme values.\n",
    "   \n",
    "   To find the median, you first arrange the values in the dataset in order from lowest to highest (or highest to lowest). Then, if the dataset has an odd number of values, the median is the middle value. For example, in the dataset 2, 4, 6, 8, the median is 6. If the dataset has an even number of values, the median is the average of the two middle values. For example, in the dataset 2, 4, 6, 8, 10, the median is (6+8)/2 = 7.\n",
    "\n",
    "2. Median is not affected by extreme values or outliers, making it a better measure of central tendency for datasets with skewed distributions.\n",
    "   \n",
    "   To find the mode, you identify the value or values that occur most frequently in the dataset. For example, in the dataset 2, 4, 6, 8, 8, the mode is 8, because it appears twice and no other value appears more than once.\n",
    "\n",
    "3. Mode is useful for describing the most common value or category in a dataset, especially for categorical or nominal data.\n",
    "   \n",
    "   These measures of central tendency are used to provide a summary of the \"average\" value or typical value in a dataset, which can be useful for describing the distribution of the data and making comparisons between different datasets."
   ]
  },
  {
   "cell_type": "markdown",
   "id": "22471777-e50c-4580-b954-af18773d5d3c",
   "metadata": {},
   "source": [
    "### Q3. Measure the three measures of central tendency for the given height data:\n",
    "[178,177,176,177,178.2,178,175,179,180,175,178.9,176.2,177,172.5,178,176.5]"
   ]
  },
  {
   "cell_type": "code",
   "execution_count": 1,
   "id": "bf340144-e095-40df-baca-f7ddb9c2667d",
   "metadata": {},
   "outputs": [],
   "source": [
    "df = [178,177,176,177,178.2,178,175,179,180,175,178.9,176.2,177,172.5,178,176.5]"
   ]
  },
  {
   "cell_type": "code",
   "execution_count": 10,
   "id": "01398b9b-181b-4cba-ad4a-9998434ccdff",
   "metadata": {},
   "outputs": [],
   "source": [
    "import numpy as np\n",
    "from scipy import stats"
   ]
  },
  {
   "cell_type": "code",
   "execution_count": 20,
   "id": "6d9c8f8b-11fb-4d86-b5fa-caf3a48d77a6",
   "metadata": {},
   "outputs": [],
   "source": [
    "def centen(data):\n",
    "    mean = np.mean(data)\n",
    "    median = np.median(data)\n",
    "    mode = stats.mode(data)\n",
    "    \n",
    "    print(\"Mean Value of Data : {}\"\"\\n\"\"Median value of Data : {}\"\"\\n\"\"Mode Value of Data : {}\".format(mean,median,mode))"
   ]
  },
  {
   "cell_type": "code",
   "execution_count": 21,
   "id": "f9999549-b64f-42a6-b220-1a298c6cc1de",
   "metadata": {},
   "outputs": [
    {
     "name": "stdout",
     "output_type": "stream",
     "text": [
      "Mean Value of Data : 177.01875\n",
      "Median value of Data : 177.0\n",
      "Mode Value of Data : ModeResult(mode=array([177.]), count=array([3]))\n"
     ]
    },
    {
     "name": "stderr",
     "output_type": "stream",
     "text": [
      "/tmp/ipykernel_279/3866211341.py:4: FutureWarning: Unlike other reduction functions (e.g. `skew`, `kurtosis`), the default behavior of `mode` typically preserves the axis it acts along. In SciPy 1.11.0, this behavior will change: the default value of `keepdims` will become False, the `axis` over which the statistic is taken will be eliminated, and the value None will no longer be accepted. Set `keepdims` to True or False to avoid this warning.\n",
      "  mode = stats.mode(data)\n"
     ]
    }
   ],
   "source": [
    "centen(df)"
   ]
  },
  {
   "cell_type": "markdown",
   "id": "91e2705a-56d7-40cd-a31c-40996efc845b",
   "metadata": {},
   "source": [
    "### Q4. Find the standard deviation for the given data:\n",
    "[178,177,176,177,178.2,178,175,179,180,175,178.9,176.2,177,172.5,178,176.5]"
   ]
  },
  {
   "cell_type": "code",
   "execution_count": 22,
   "id": "9788a7f2-6dea-49e0-a8d4-57e14fe0154b",
   "metadata": {},
   "outputs": [
    {
     "name": "stdout",
     "output_type": "stream",
     "text": [
      "Standard Deviation of Data : 1.7885814036548633\n"
     ]
    }
   ],
   "source": [
    "std = np.std(df)\n",
    "print(\"Standard Deviation of Data :\",std)"
   ]
  },
  {
   "cell_type": "markdown",
   "id": "9d3d33be-743f-45c5-a7a2-e3e4f35cea9c",
   "metadata": {},
   "source": [
    "### Q5. How are measures of dispersion such as range, variance, and standard deviation used to describe the spread of a dataset? Provide an example."
   ]
  },
  {
   "cell_type": "markdown",
   "id": "add2b6c6-e035-4e43-8f98-62f216416489",
   "metadata": {},
   "source": [
    "Measures of dispersion such as range, variance, and standard deviation are used to describe the spread or variability of a dataset. They help to provide additional information beyond the central tendency measures by indicating how much the values in a dataset deviate from the central value or mean.\n",
    "\n",
    "1. Range: The range is the difference between the highest and lowest values in a dataset. It is a simple measure of dispersion that can be useful for quickly assessing the spread of a dataset.\n",
    "   \n",
    "   For example, in the dataset 2, 4, 6, 8, 10, the range is 10-2=8.\n",
    "\n",
    "2. Variance: The variance is a measure of how much the values in a dataset deviate from the mean. It is calculated by subtracting each value from the mean, squaring the differences, adding them up, and dividing by the number of values minus one.\n",
    "   \n",
    "   For example, consider the dataset 2, 4, 6, 8, 10. The mean is (2+4+6+8+10)/5=6. The differences between each value and the mean are -4, -2, 0, 2, and 4. Squaring these differences gives 16, 4, 0, 4, and 16. Adding these up gives 40. Dividing by 4 (the number of values minus one) gives a variance of 10.\n",
    "\n",
    "3. Standard deviation: The standard deviation is the square root of the variance. It is a commonly used measure of dispersion that indicates how much the values in a dataset are spread out around the mean.\n",
    "   \n",
    "   For the same dataset used in the variance example, the standard deviation would be the square root of 10, which is approximately 3.16.\n",
    "\n",
    "They are useful for assessing the variability in a dataset and making comparisons between different datasets."
   ]
  },
  {
   "cell_type": "markdown",
   "id": "eff9ea47-c2ae-4ef6-82d7-01540a4d4ef4",
   "metadata": {},
   "source": [
    "### Q6. What is a Venn diagram?"
   ]
  },
  {
   "cell_type": "markdown",
   "id": "e55a7105-b2c7-454a-a316-e1d5588418b3",
   "metadata": {},
   "source": [
    "A Venn diagram is a visual tool used to illustrate the relationships between sets of data. It consists of overlapping circles or other shapes, with each circle representing a set and the overlapping regions representing the intersection between sets."
   ]
  },
  {
   "cell_type": "markdown",
   "id": "8d65ae48-27f9-4afc-9411-725ad2062b3b",
   "metadata": {},
   "source": [
    "### Q7. For the two given sets A = (2,3,4,5,6,7) & B = (0,2,6,8,10). Find:"
   ]
  },
  {
   "cell_type": "markdown",
   "id": "9f449dbf-92c2-4338-ab99-641a8e6b8793",
   "metadata": {},
   "source": [
    "1. A ∩ B\n",
    "= {2,6}\n",
    "2. A ⋃ B\n",
    "= {0,2,3,4,5,6,7,8,10}"
   ]
  },
  {
   "cell_type": "markdown",
   "id": "0c75da26-4510-4f89-9f12-210efd788179",
   "metadata": {},
   "source": [
    "### Q8. What do you understand about skewness in data?"
   ]
  },
  {
   "cell_type": "markdown",
   "id": "1b1a0188-3776-4639-82f8-cb5ea14e8dfe",
   "metadata": {},
   "source": [
    "Skewness in data is a measure of the asymmetry of the distribution of values in a dataset. A dataset is said to be skewed if it is not symmetric, meaning that the distribution of values is not evenly distributed around the mean. In a skewed distribution, the tail of the distribution will be longer on one side than the other.\n",
    "\n",
    "Skewness can be described as positive, negative, or zero."
   ]
  },
  {
   "cell_type": "markdown",
   "id": "ba8f4ebe-2764-4462-b363-2c33941e212f",
   "metadata": {},
   "source": [
    "### Q9. If a data is right skewed then what will be the position of median with respect to mean?"
   ]
  },
  {
   "cell_type": "markdown",
   "id": "7692fdf3-8d3a-4534-b0bf-c6fa1e3bf3a8",
   "metadata": {},
   "source": [
    "If a dataset is right-skewed, the median will typically be less than the mean.\n",
    "\n",
    "This is because the right-skewness is caused by a few large values in the dataset, which pull the mean towards the right or positive side of the distribution. As a result, the mean will be higher than the median, which represents the middle value of the dataset."
   ]
  },
  {
   "cell_type": "markdown",
   "id": "58740976-9fce-4d3d-917b-6aed29d6994d",
   "metadata": {},
   "source": [
    "### Q10. Explain the difference between covariance and correlation. How are these measures used in statistical analysis?"
   ]
  },
  {
   "cell_type": "markdown",
   "id": "8a783433-27fa-42a4-ac63-54b29c98a716",
   "metadata": {},
   "source": [
    "Covariance and correlation are two measures that are used to describe the relationship between two variables in a dataset\n",
    "\n",
    "1. Covariance is a measure of the direction and strength of the linear relationship between two variables. It measures how much two variables change together. Specifically, covariance measures the degree to which the values of one variable co-vary with the values of another variable.\n",
    "   \n",
    "   If two variables have a positive covariance, it means they tend to increase or decrease together. If two variables have a negative covariance, it means they tend to move in opposite directions.\n",
    "\n",
    "2. Correlation is a standardized measure of covariance, which makes it easier to compare relationships between variables that have different units of measurement.\n",
    "   \n",
    "   A correlation of 1 indicates a perfect positive relationship between two variables, a correlation of -1 indicates a perfect negative relationship, and a correlation of 0 indicates no relationship."
   ]
  },
  {
   "cell_type": "markdown",
   "id": "15e86842-b1f6-4c39-82f8-e7e939b31f35",
   "metadata": {},
   "source": [
    "### Q11. What is the formula for calculating the sample mean? Provide an example calculation for a dataset."
   ]
  },
  {
   "cell_type": "markdown",
   "id": "7b6e64a3-5e8d-434e-a124-946cf6ddd7d1",
   "metadata": {},
   "source": [
    "The formula for calculating the sample mean is:\n",
    "\n",
    "sample mean = sum of all data points / number of data points\n",
    "\n",
    "For example, let's say we have the following dataset:\n",
    "\n",
    "3, 5, 6, 7, 2, 8, 9, 1\n",
    "\n",
    "To calculate the sample mean, we would first add up all the data points:\n",
    "\n",
    "3 + 5 + 6 + 7 + 2 + 8 + 9 + 1 = 41\n",
    "\n",
    "Next, we would divide by the number of data points, which in this case is 8:\n",
    "\n",
    "41 / 8 = 5.125\n",
    "\n",
    "Therefore, the sample mean for this dataset is 5.125."
   ]
  },
  {
   "cell_type": "markdown",
   "id": "30c5dea6-631b-4167-8a6d-5d06710f536c",
   "metadata": {},
   "source": [
    "### Q12. For a normal distribution data what is the relationship between its measure of central tendency?"
   ]
  },
  {
   "cell_type": "markdown",
   "id": "82e84c76-51d5-4089-a653-15a5eea80111",
   "metadata": {},
   "source": [
    "For a normal distribution, the measures of central tendency (mean, median, and mode) are all equal to each other."
   ]
  },
  {
   "cell_type": "markdown",
   "id": "d941ff46-750b-45fe-a6ca-4576cd60b675",
   "metadata": {},
   "source": [
    "### Q13. How is covariance different from correlation?"
   ]
  },
  {
   "cell_type": "markdown",
   "id": "db2ed366-7ce2-4a27-b25d-e822fcd35e3b",
   "metadata": {},
   "source": [
    "Covariance and correlation are both measures that describe the relationship between two variables in a dataset. However, they differ in their scale, interpretation, and usefulness.\n",
    "\n",
    "1. Scale: Covariance is not standardized, while correlation is standardized and ranges from -1 to 1.\n",
    "2. Interpretation: Covariance measures the degree to which two variables co-vary, while correlation measures the strength and direction of the linear relationship between two variables.\n",
    "3. Usefulness: Covariance can be difficult to interpret and compare across datasets because it is affected by the units of measurement of the variables, while correlation is a more useful and commonly used measure of the relationship between two variables because it is standardized and can be easily compared across datasets."
   ]
  },
  {
   "cell_type": "markdown",
   "id": "4f3b3d8b-ab8f-491e-91e3-fe9e4e4b6037",
   "metadata": {},
   "source": [
    "### Q14. How do outliers affect measures of central tendency and dispersion? Provide an example."
   ]
  },
  {
   "cell_type": "markdown",
   "id": "e8f58617-59fb-4ffb-8272-6f4f29841101",
   "metadata": {},
   "source": [
    "Outliers can have a significant impact on measures of central tendency and dispersion, especially on the mean and standard deviation.\n",
    "\n",
    "Lets take an example, we have a dataset of payouts : 25,000, 35,000, 40,000, 36,000, 59,000\n",
    "\n",
    "The mean of the payouts would be,\n",
    "\n",
    "mean = (25,000 + 35,000 + 40,000 + 36,000 + 59,000)/5 = 39,000\n",
    "\n",
    "Let's add one more payout into the above dataset: 25,000, 35,000, 40,000, 36,000, 59,000, 1019,000\n",
    "\n",
    "Now calculate mean of the new dataset,\n",
    "\n",
    "mean = (25,000 + 35,000 + 40,000 + 36,000 + 59,000 + 1019,000)/6 = 242800\n",
    "\n",
    "We can clearly see difference by adding an outlier the mean is deflected too much."
   ]
  },
  {
   "cell_type": "code",
   "execution_count": 24,
   "id": "c2f71016-d6a6-4ace-aafc-5a5dbf87d387",
   "metadata": {},
   "outputs": [
    {
     "data": {
      "text/plain": [
       "39000.0"
      ]
     },
     "execution_count": 24,
     "metadata": {},
     "output_type": "execute_result"
    }
   ],
   "source": [
    "data = (25000,35000,40000,36000,59000)\n",
    "np.mean(data)"
   ]
  },
  {
   "cell_type": "code",
   "execution_count": 25,
   "id": "0942ab2a-914a-4ed3-b433-abf998699188",
   "metadata": {},
   "outputs": [
    {
     "data": {
      "text/plain": [
       "242800.0"
      ]
     },
     "execution_count": 25,
     "metadata": {},
     "output_type": "execute_result"
    }
   ],
   "source": [
    "data1 = (25000,35000,40000,36000,59000+1019000)\n",
    "np.mean(data1)"
   ]
  },
  {
   "cell_type": "code",
   "execution_count": null,
   "id": "4c56f3f3-0d53-4640-8711-94efaf709b29",
   "metadata": {},
   "outputs": [],
   "source": []
  }
 ],
 "metadata": {
  "kernelspec": {
   "display_name": "Python 3 (ipykernel)",
   "language": "python",
   "name": "python3"
  },
  "language_info": {
   "codemirror_mode": {
    "name": "ipython",
    "version": 3
   },
   "file_extension": ".py",
   "mimetype": "text/x-python",
   "name": "python",
   "nbconvert_exporter": "python",
   "pygments_lexer": "ipython3",
   "version": "3.10.8"
  }
 },
 "nbformat": 4,
 "nbformat_minor": 5
}
