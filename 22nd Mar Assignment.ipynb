{
 "cells": [
  {
   "cell_type": "markdown",
   "metadata": {},
   "source": [
    "## Pearson correlation coefficient is a measure of the linear relationship between two variables. Suppose you have collected data on the amount of time students spend studying for an exam and their final exam scores. Calculate the Pearson correlation coefficient between these two variables and interpret the result."
   ]
  },
  {
   "cell_type": "code",
   "execution_count": 2,
   "metadata": {},
   "outputs": [
    {
     "name": "stdout",
     "output_type": "stream",
     "text": [
      "           time     score\n",
      "time   1.000000  0.686754\n",
      "score  0.686754  1.000000\n"
     ]
    }
   ],
   "source": [
    "import pandas as pd\n",
    "\n",
    "# create sample database\n",
    "\n",
    "data = { 'time' :[6,7,8,1,5,4,9,3,11,9],\n",
    "        'score' : [50,56,89,40,30,15,35,19,76,80]}\n",
    "df = pd.DataFrame(data)\n",
    "\n",
    "cor = df.corr('pearson')\n",
    "print(cor)"
   ]
  },
  {
   "cell_type": "markdown",
   "metadata": {},
   "source": [
    "We can conclude:\n",
    "\n",
    "- As the values are positive we can say time and score are positively correlated.\n",
    "- With more time spending on studies, the more score student get"
   ]
  },
  {
   "cell_type": "markdown",
   "metadata": {},
   "source": [
    "## Spearman's rank correlation is a measure of the monotonic relationship between two variables. Suppose you have collected data on the amount of sleep individuals get each night and their overall job satisfaction level on a scale of 1 to 10. Calculate the Spearman's rank correlation between these two variables and interpret the result."
   ]
  },
  {
   "cell_type": "code",
   "execution_count": 9,
   "metadata": {},
   "outputs": [
    {
     "name": "stdout",
     "output_type": "stream",
     "text": [
      "Spearman's rank correlation coefficient:  0.6126374746329801\n",
      "p-value:  0.1435885753012859\n"
     ]
    }
   ],
   "source": [
    "from scipy.stats import spearmanr\n",
    "\n",
    "# Example data\n",
    "sleep = [8, 7, 6, 5, 9, 5, 4]\n",
    "job_satisfaction = [9,8,7,6,5,4,3]\n",
    "\n",
    "# Calculate Spearman's rank correlation coefficient and p-value\n",
    "rho, pval = spearmanr(sleep, job_satisfaction)\n",
    "\n",
    "print(\"Spearman's rank correlation coefficient: \", rho)\n",
    "print(\"p-value: \", pval)\n"
   ]
  },
  {
   "cell_type": "markdown",
   "metadata": {},
   "source": [
    "The Spearman's rank correlation coefficient is 0.612, which indicates a strong, positive monotonic relationship between the amount of sleep individuals get each night and their overall job satisfaction level. This means that as the amount of sleep increases, so does the job satisfaction level, and vice versa."
   ]
  },
  {
   "cell_type": "markdown",
   "metadata": {},
   "source": [
    "## Suppose you are conducting a study to examine the relationship between the number of hours of exercise per week and body mass index (BMI) in a sample of adults. You collected data on both variables for 50 participants. Calculate the Pearson correlation coefficient and the Spearman's rank correlation between these two variables and compare the results."
   ]
  },
  {
   "cell_type": "code",
   "execution_count": 27,
   "metadata": {},
   "outputs": [
    {
     "name": "stdout",
     "output_type": "stream",
     "text": [
      "Pearson correlation coefficient: 0.09892065761030128\n",
      "Spearman's rank correlation coefficient: 0.10103330620173835\n"
     ]
    }
   ],
   "source": [
    "import numpy as np\n",
    "from scipy.stats import spearmanr, pearsonr\n",
    "\n",
    "# create dummy sample\n",
    "np.random.seed(123)\n",
    "arr = np.linspace(15, 30, 50)\n",
    "bmi = np.round(arr, 1)\n",
    "hours = np.random.randint(0, 6, 50)\n",
    "\n",
    "# Calculate the Spearman's rank correlation coefficient\n",
    "spear, p_val = spearmanr(hours, bmi)\n",
    "\n",
    "# Calculate the Pearson correlation coefficient\n",
    "pear, p_value = pearsonr(hours, bmi)\n",
    "\n",
    "print(\"Pearson correlation coefficient:\", pear)\n",
    "print(\"Spearman's rank correlation coefficient:\", spear)"
   ]
  },
  {
   "cell_type": "markdown",
   "metadata": {},
   "source": [
    "We can conclude:\n",
    "\n",
    "- Both the Pearson correlation coefficient and the Spearman's rank correlation coefficient are positive but close to zero, which suggests a very weak positive correlation between the number of hours of exercise per week and BMI, which can be neglect. \n",
    "\n",
    "- So we can say there is no correlation between the number of hours of exercise per week and BMI\n",
    "\n",
    "- There is a slight difference between both the correlations, spearman rank correlation coefficient is more than pearson correlation coefficient."
   ]
  },
  {
   "cell_type": "markdown",
   "metadata": {},
   "source": [
    "## A researcher is interested in examining the relationship between the number of hours individuals spend watching television per day and their level of physical activity. The researcher collected data on both variables from a sample of 50 participants. Calculate the Pearson correlation coefficient between these two variables."
   ]
  },
  {
   "cell_type": "code",
   "execution_count": 35,
   "metadata": {},
   "outputs": [
    {
     "name": "stdout",
     "output_type": "stream",
     "text": [
      "Pearson correlation coefficient: 0.13635879341904195\n"
     ]
    }
   ],
   "source": [
    "import numpy as np\n",
    "from scipy.stats import pearsonr\n",
    "\n",
    "# create dummy sample\n",
    "np.random.seed(50)\n",
    "activity = np.random.randint(1, 10, 50)\n",
    "tv_hours = np.random.randint(0, 6, 50)\n",
    "\n",
    "\n",
    "# Calculate the Pearson correlation coefficient\n",
    "pear, p_value = pearsonr(tv_hours, activity)\n",
    "\n",
    "print(\"Pearson correlation coefficient:\", pear)"
   ]
  },
  {
   "cell_type": "markdown",
   "metadata": {},
   "source": [
    "We can conclude:\n",
    "\n",
    "- The Pearson correlation coefficient is positive but close to zero, which suggests a very weak positive correlation between the number of hours and activity, which can be neglect. \n",
    "\n",
    "- So we can say there is no correlation between the number of hours of watching tv per day and their level of physical activity."
   ]
  },
  {
   "cell_type": "markdown",
   "metadata": {},
   "source": [
    "## A survey was conducted to examine the relationship between age and preference for a particular brand of soft drink. The survey results are shown below:\n",
    "\n",
    "#### 'Age': [ 25, 42,37, 19, 31,28], 'Soft drink Preference':['Coke',' Pepsi', 'Mountain dew','Coke','Pepsi','Coke']"
   ]
  },
  {
   "cell_type": "code",
   "execution_count": 58,
   "metadata": {},
   "outputs": [
    {
     "data": {
      "text/html": [
       "<div>\n",
       "<style scoped>\n",
       "    .dataframe tbody tr th:only-of-type {\n",
       "        vertical-align: middle;\n",
       "    }\n",
       "\n",
       "    .dataframe tbody tr th {\n",
       "        vertical-align: top;\n",
       "    }\n",
       "\n",
       "    .dataframe thead th {\n",
       "        text-align: right;\n",
       "    }\n",
       "</style>\n",
       "<table border=\"1\" class=\"dataframe\">\n",
       "  <thead>\n",
       "    <tr style=\"text-align: right;\">\n",
       "      <th></th>\n",
       "      <th>Age</th>\n",
       "      <th>pepsi</th>\n",
       "      <th>coke</th>\n",
       "      <th>Mountaindew</th>\n",
       "    </tr>\n",
       "  </thead>\n",
       "  <tbody>\n",
       "    <tr>\n",
       "      <th>Age</th>\n",
       "      <td>1.000000</td>\n",
       "      <td>-0.837240</td>\n",
       "      <td>0.394132</td>\n",
       "      <td>0.576439</td>\n",
       "    </tr>\n",
       "    <tr>\n",
       "      <th>pepsi</th>\n",
       "      <td>-0.837240</td>\n",
       "      <td>1.000000</td>\n",
       "      <td>-0.447214</td>\n",
       "      <td>-0.707107</td>\n",
       "    </tr>\n",
       "    <tr>\n",
       "      <th>coke</th>\n",
       "      <td>0.394132</td>\n",
       "      <td>-0.447214</td>\n",
       "      <td>1.000000</td>\n",
       "      <td>-0.316228</td>\n",
       "    </tr>\n",
       "    <tr>\n",
       "      <th>Mountaindew</th>\n",
       "      <td>0.576439</td>\n",
       "      <td>-0.707107</td>\n",
       "      <td>-0.316228</td>\n",
       "      <td>1.000000</td>\n",
       "    </tr>\n",
       "  </tbody>\n",
       "</table>\n",
       "</div>"
      ],
      "text/plain": [
       "                  Age     pepsi      coke  Mountaindew\n",
       "Age          1.000000 -0.837240  0.394132     0.576439\n",
       "pepsi       -0.837240  1.000000 -0.447214    -0.707107\n",
       "coke         0.394132 -0.447214  1.000000    -0.316228\n",
       "Mountaindew  0.576439 -0.707107 -0.316228     1.000000"
      ]
     },
     "execution_count": 58,
     "metadata": {},
     "output_type": "execute_result"
    }
   ],
   "source": [
    "import pandas as pd\n",
    "from sklearn.preprocessing import OneHotEncoder\n",
    "\n",
    "data = {\n",
    "    'Age': [ 25, 42,37, 19, 31,28],\n",
    "    'Preferences':['Coke','Pepsi', 'MountainDew','Coke','Pepsi','Coke']}\n",
    "\n",
    "df = pd.DataFrame(data)\n",
    "encoder = OneHotEncoder()\n",
    "\n",
    "val = encoder.fit_transform(df[['Preferences']]).toarray()\n",
    "df1 = pd.DataFrame(val, columns=['pepsi', 'coke', 'Mountaindew'])\n",
    "df2 = pd.concat([df, df1], axis=1)\n",
    "df2.drop(columns=['Preferences'], inplace= True)\n",
    "\n",
    "df2.corr()\n"
   ]
  },
  {
   "cell_type": "markdown",
   "metadata": {},
   "source": [
    "## A company is interested in examining the relationship between the number of sales calls made per day and the number of sales made per week. The company collected data on both variables from a sample of 30 sales representatives. Calculate the Pearson correlation coefficient between these two variables."
   ]
  },
  {
   "cell_type": "code",
   "execution_count": 61,
   "metadata": {},
   "outputs": [
    {
     "name": "stdout",
     "output_type": "stream",
     "text": [
      "Pearson correlation coefficient: 0.1903819723067468\n"
     ]
    }
   ],
   "source": [
    "from scipy.stats import pearsonr\n",
    "import numpy as np\n",
    "\n",
    "# generating the data for sales per call ans week \n",
    "np.random.seed(123)\n",
    "sales_call = np.random.randint(20,60,30)\n",
    "sales_per_week = np.random.randint(50, 80,30)\n",
    "\n",
    "\n",
    "# Calculate the Pearson correlation coefficient\n",
    "corr, pval = pearsonr(sales_call, sales_per_week)\n",
    "\n",
    "print(\"Pearson correlation coefficient:\", corr)"
   ]
  }
 ],
 "metadata": {
  "kernelspec": {
   "display_name": "Python 3 (ipykernel)",
   "language": "python",
   "name": "python3"
  },
  "language_info": {
   "codemirror_mode": {
    "name": "ipython",
    "version": 3
   },
   "file_extension": ".py",
   "mimetype": "text/x-python",
   "name": "python",
   "nbconvert_exporter": "python",
   "pygments_lexer": "ipython3",
   "version": "3.10.8"
  }
 },
 "nbformat": 4,
 "nbformat_minor": 4
}
