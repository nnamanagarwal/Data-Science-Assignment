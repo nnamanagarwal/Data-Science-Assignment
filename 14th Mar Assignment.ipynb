{
 "cells": [
  {
   "cell_type": "markdown",
   "id": "dafd1100-9dc8-4548-9305-df3f7ccd364a",
   "metadata": {},
   "source": [
    "## Write a Python function that takes in two arrays of data and calculates the F-value for a variance ratio test. The function should return the F-value and the corresponding p-value for the test."
   ]
  },
  {
   "cell_type": "code",
   "execution_count": 45,
   "id": "13df6505-4b07-4d45-9a23-7c747ec8fcaf",
   "metadata": {},
   "outputs": [
    {
     "name": "stdout",
     "output_type": "stream",
     "text": [
      "F-Value = 2.2172 \n",
      "P-Value = 0.0802\n"
     ]
    }
   ],
   "source": [
    "import scipy.stats as stat\n",
    "import numpy as np\n",
    "\n",
    "# making func which takes 2 arrays\n",
    "def f_test(array1, array2):\n",
    "    # f-value by dividing varienc of both arrays\n",
    "    f = np.var(array1, ddof=1) / np.var(array2, ddof=1)\n",
    "    \n",
    "    # degree of freedom of both arrays\n",
    "    dof1 = array1.size -1\n",
    "    dof2 = array2.size -1\n",
    "    \n",
    "    # p-value is (1- cdf)\n",
    "    p_val = 1- stat.f.cdf(f, dof1, dof2)\n",
    "    \n",
    "    print(f\"F-Value = {f:.4f} \\nP-Value = {p_val:.4f}\")\n",
    "    \n",
    "# sample arrays\n",
    "a = np.linspace(9.5, 11, 15)\n",
    "b = np.linspace(10, 11, 14)\n",
    "\n",
    "# testing func\n",
    "f_test(a,b)\n"
   ]
  },
  {
   "cell_type": "markdown",
   "id": "fe3af4ac-2502-4675-bb41-ac626dd49256",
   "metadata": {},
   "source": [
    "## Given a significance level of 0.05 and the degrees of freedom for the numerator and denominator of an F-distribution, write a Python function that returns the critical F-value for a two-tailed test."
   ]
  },
  {
   "cell_type": "code",
   "execution_count": 46,
   "id": "78dd61e8-9b3f-47b6-817c-80186b006692",
   "metadata": {},
   "outputs": [
    {
     "data": {
      "text/plain": [
       "'f-value = 5.9876'"
      ]
     },
     "execution_count": 46,
     "metadata": {},
     "output_type": "execute_result"
    }
   ],
   "source": [
    "import scipy.stats as stat\n",
    "\n",
    "# creating a func which takes degree of freedom of numerator as num and denominator as deno\n",
    "def f_val(num , den):\n",
    "    \n",
    "    # given\n",
    "    alpha = 0.05\n",
    "    # f\n",
    "    f_critical = stat.f.ppf(1- alpha/2, num, den)\n",
    "    \n",
    "    return f'f-value = {f_critical:.4f}'\n",
    "\n",
    "num = 5\n",
    "den = 6\n",
    "\n",
    "f_val(num, den)"
   ]
  },
  {
   "cell_type": "markdown",
   "id": "ebe7f84e-49bc-4c28-89c7-91132a89ae50",
   "metadata": {},
   "source": [
    "## Write a Python program that generates random samples from two normal distributions with known variances and uses an F-test to determine if the variances are equal. The program should output the F- value, degrees of freedom, and p-value for the test."
   ]
  },
  {
   "cell_type": "code",
   "execution_count": 85,
   "id": "59c110b2-4990-4212-9a22-512a70a38429",
   "metadata": {},
   "outputs": [
    {
     "name": "stdout",
     "output_type": "stream",
     "text": [
      "F-value = 1.3184 \n",
      "P-value = 0.2583 \n",
      "Degree of Freedom 1= 19 \n",
      "Degree of Freedom 2= 24\n"
     ]
    }
   ],
   "source": [
    "import numpy as np\n",
    "from scipy.stats import f\n",
    "\n",
    "# known variance, rest all assumed\n",
    "n1 = 20\n",
    "n2 = 25\n",
    "mean1 = 10\n",
    "mean2 = 11\n",
    "variance1 = 9\n",
    "variance2 = 12\n",
    "\n",
    "# generating samples\n",
    "np.random.seed(1)\n",
    "sample1 = np.random.normal(mean1, np.sqrt(variance1), n1)\n",
    "sample2 = np.random.normal(mean2, np.sqrt(variance2), n2)\n",
    "\n",
    "# calculating Degree of freedom\n",
    "dof1 = sample1.size - 1\n",
    "dof2 = sample2.size - 1\n",
    "\n",
    "# calculating f- value\n",
    "f_val = np.var(sample1)/np.var(sample2)\n",
    "\n",
    "# calculating p- value\n",
    "p_val = 1 - stat.f.cdf(f_val, dof1, dof2)\n",
    "\n",
    "# output\n",
    "print(f'F-value = {f_val:.4f} \\nP-value = {p_val:.4f} \\nDegree of Freedom 1= {dof1} \\nDegree of Freedom 2= {dof2}')"
   ]
  },
  {
   "cell_type": "markdown",
   "id": "8b1c6caf-6532-43a1-84ba-dbaffcb9d7bf",
   "metadata": {},
   "source": [
    "## The variances of two populations are known to be 10 and 15. A sample of 12 observations is taken from each population. Conduct an F-test at the 5% significance level to determine if the variances are significantly different."
   ]
  },
  {
   "cell_type": "code",
   "execution_count": 95,
   "id": "f819b1fb-8135-4646-8cbc-8f3316ed548e",
   "metadata": {},
   "outputs": [
    {
     "name": "stdout",
     "output_type": "stream",
     "text": [
      "Fail to reject null hypothesis, variances are equal\n"
     ]
    }
   ],
   "source": [
    "import scipy.stats as stat\n",
    "\n",
    "# Null hypothesis:\n",
    "## variances are equal \n",
    "\n",
    "# Alternate hypothesis :\n",
    "## variances are significantly different\n",
    "\n",
    "# Given\n",
    "var1= 10\n",
    "var2= 15\n",
    "n1= 12\n",
    "n2= 12\n",
    "alpha = 0.05\n",
    "\n",
    "# calculating f-value\n",
    "f_val = var1/var2\n",
    "\n",
    "# calculating f-critical\n",
    "f_critical = stat.f.ppf((1-alpha) , (n1-1), (n2-2)) \n",
    "\n",
    "# decision making\n",
    "if f_val < f_critical:\n",
    "    print('Fail to reject null hypothesis, variances are equal')\n",
    "else:\n",
    "    print('Reject the null hypothesis, variances are significantly different')"
   ]
  },
  {
   "cell_type": "markdown",
   "id": "13c3c302-3a22-4671-88f4-dbb667945d79",
   "metadata": {},
   "source": [
    "## A manufacturer claims that the variance of the diameter of a certain product is 0.005. A sample of 25 products is taken, and the sample variance is found to be 0.006. Conduct an F-test at the 1% significance level to determine if the claim is justified."
   ]
  },
  {
   "cell_type": "code",
   "execution_count": 119,
   "id": "fcdd320e-1def-4a7a-a223-0c9de91aa475",
   "metadata": {},
   "outputs": [
    {
     "name": "stdout",
     "output_type": "stream",
     "text": [
      "Fail to reject the null hypothesis, The variance of the diameter of the product is equal to 0.005.\n",
      "p-value = 0.2281\n"
     ]
    }
   ],
   "source": [
    "import scipy.stats as stat\n",
    "\n",
    "# Null hypothesis:\n",
    "## The variance of the diameter of the product is equal to 0.005.\n",
    "\n",
    "# Alternative hypothesis:\n",
    "## The variance of the diameter of the product is greater than 0.005.\n",
    "\n",
    "# given\n",
    "var1 = 0.006\n",
    "var2 = 0.005\n",
    "n1 = 25\n",
    "alpha = 0.1\n",
    "\n",
    "# degree of freedom of numerator\n",
    "dof1 = n1- 1\n",
    "\n",
    "# calculating f-value\n",
    "f_val = var1/var2\n",
    "\n",
    "# calculating p-value, dof of denominator = 10000(considering population size to be a big number)\n",
    "p_val = 1 -  stat.f.cdf(f_val, dof1, 10000)\n",
    "\n",
    "if p_val< alpha:\n",
    "    print('Reject the null hypothesis, The variance of the diameter of the product is greater than 0.005.')\n",
    "else: \n",
    "    print(\"Fail to reject the null hypothesis, The variance of the diameter of the product is equal to 0.005.\")\n",
    "    \n",
    "print(f'p-value = {p_val:.4f}')"
   ]
  },
  {
   "cell_type": "markdown",
   "id": "cf67cc5f-54ee-45eb-90f9-c65d51e593d8",
   "metadata": {},
   "source": [
    "## Write a Python function that takes in the degrees of freedom for the numerator and denominator of an F-distribution and calculates the mean and variance of the distribution. The function should return the mean and variance as a tuple."
   ]
  },
  {
   "cell_type": "code",
   "execution_count": 129,
   "id": "33be230c-7de3-40bc-9090-d6dfea5122cb",
   "metadata": {},
   "outputs": [
    {
     "data": {
      "text/plain": [
       "(1.25, 1.2152777777777777)"
      ]
     },
     "execution_count": 129,
     "metadata": {},
     "output_type": "execute_result"
    }
   ],
   "source": [
    "# dfn = degree of freedom of numerator\n",
    "# dfd = degree of freedom of denominator\n",
    "\n",
    "# creating a function for calculating mean and variance \n",
    "# takes 2 arguments \n",
    "def fMeanVariacne(dfn, dfd):\n",
    "    \n",
    "    # raise error if any of the two values is negative or zero\n",
    "    if dfn <= 0 or dfd <= 0:\n",
    "        raise TypeError('Values can not be zero or less than zero')\n",
    "    \n",
    "    # raise error if 1st aurgument is odd \n",
    "    if dfn % 2 != 0:\n",
    "        raise TypeError('Degree of freedom of numerator has to be even')\n",
    "        \n",
    "    \n",
    "    # calculations for mean and variance     \n",
    "    mean = dfd / (dfd - 2)\n",
    "    variance = (2 * dfd ** 2 * (dfn + dfd - 2)) / (dfn * (dfd - 2) ** 2 * (dfd - 4))\n",
    "\n",
    "    return mean, variance\n",
    "\n",
    "# testing output\n",
    "fMeanVariacne(6, 10)\n",
    "        \n"
   ]
  },
  {
   "cell_type": "markdown",
   "id": "13a61bfb-9909-4d3d-bdb6-58d8ac25ce37",
   "metadata": {},
   "source": [
    "## A random sample of 10 measurements is taken from a normal population with unknown variance. The sample variance is found to be 25. Another random sample of 15 measurements is taken from another normal population with unknown variance, and the sample variance is found to be 20. Conduct an F-test at the 10% significance level to determine if the variances are significantly different."
   ]
  },
  {
   "cell_type": "code",
   "execution_count": 132,
   "id": "c1d00c65-3637-4243-8f66-adaf15ce7fce",
   "metadata": {},
   "outputs": [
    {
     "name": "stdout",
     "output_type": "stream",
     "text": [
      "Fail to reject the null hypothesis,  variances are not significantly different\n"
     ]
    }
   ],
   "source": [
    "import scipy.stats as stat\n",
    "\n",
    "# Null hypothesis :  variances are not significantly different\n",
    "# Alternate hypothesis :  variances are significantly different\n",
    "\n",
    "# given\n",
    "n1 = 10\n",
    "var1 = 25\n",
    "n2 = 15\n",
    "var2 = 20\n",
    "alpha = 0.1\n",
    "\n",
    "# calculating degree of freedom\n",
    "dfn = n1 -1\n",
    "dfd = n2- 1\n",
    "\n",
    "# calculating the f-value of the distributions\n",
    "f_val = var1 / var2\n",
    "\n",
    "# calcuclating the p-value\n",
    "p_val = 1 - stat.f.cdf(f_val, dfn, dfd)\n",
    "\n",
    "# decision making\n",
    "if p_val < alpha:\n",
    "    print('Reject the null hypothesis,  variances are significantly different')\n",
    "else:\n",
    "    print('Fail to reject the null hypothesis,  variances are not significantly different')"
   ]
  },
  {
   "cell_type": "markdown",
   "id": "083eb74e-ea10-43af-afe9-1827c58c15a0",
   "metadata": {},
   "source": [
    "## The following data represent the waiting times in minutes at two different restaurants on a Saturday night: Restaurant A: 24, 25, 28, 23, 22, 20, 27; Restaurant B: 31, 33, 35, 30, 32, 36. Conduct an F-test at the 5% significance level to determine if the variances are significantly different."
   ]
  },
  {
   "cell_type": "code",
   "execution_count": 137,
   "id": "9fc34f1a-69b2-4148-8ab7-9ba35c7bd20c",
   "metadata": {},
   "outputs": [
    {
     "name": "stdout",
     "output_type": "stream",
     "text": [
      "Fail to reject the null hypothesis,  variances are not significantly different\n"
     ]
    }
   ],
   "source": [
    "import scipy.stats as stat\n",
    "\n",
    "# Null hypothesis :  variances are not significantly different\n",
    "# Alternate hypothesis :  variances are significantly different\n",
    "\n",
    "# given\n",
    "A = [24, 25, 28, 23, 22, 20, 27]\n",
    "B = [31, 33, 35, 30, 32, 36]\n",
    "alpha = 0.05\n",
    "\n",
    "# length of samples\n",
    "n1 = len(A)\n",
    "n2 = len(B)\n",
    "\n",
    "# variances of samples\n",
    "var1 = np.var(A)\n",
    "var2 = np.var(B)\n",
    "\n",
    "# calculating degree of freedom\n",
    "dfn = n1 -1           # numerator\n",
    "dfd = n2- 1           # denominator\n",
    "\n",
    "# calculating the f-value of the distributions\n",
    "f_val = var1 / var2\n",
    "\n",
    "# calcuclating the p-value\n",
    "p_val = 1 - stat.f.cdf(f_val, dfn, dfd)\n",
    "\n",
    "# decision making\n",
    "if p_val < alpha:\n",
    "    print('Reject the null hypothesis,  variances are significantly different')\n",
    "else:\n",
    "    print('Fail to reject the null hypothesis,  variances are not significantly different')"
   ]
  },
  {
   "cell_type": "markdown",
   "id": "aeb594fb-2478-457a-a18e-d2eafe6c4b77",
   "metadata": {},
   "source": [
    "## The following data represent the test scores of two groups of students: Group A: 80, 85, 90, 92, 87, 83; Group B: 75, 78, 82, 79, 81, 84. Conduct an F-test at the 1% significance level to determine if the variances are significantly different."
   ]
  },
  {
   "cell_type": "code",
   "execution_count": 139,
   "id": "4b5b4e53-c02e-4430-ba1d-34f3a30ee14c",
   "metadata": {},
   "outputs": [
    {
     "name": "stdout",
     "output_type": "stream",
     "text": [
      "Fail to reject the null hypothesis,  variances are not significantly different\n"
     ]
    }
   ],
   "source": [
    "import scipy.stats as stat\n",
    "\n",
    "# Null hypothesis :  variances are not significantly different\n",
    "# Alternate hypothesis :  variances are significantly different\n",
    "\n",
    "# given\n",
    "A = [80, 85, 90, 92, 87, 83]\n",
    "B = [75, 78, 82, 79, 81, 84]\n",
    "alpha = 0.05\n",
    "\n",
    "# length of samples\n",
    "n1 = len(A)\n",
    "n2 = len(B)\n",
    "\n",
    "# variances of samples\n",
    "var1 = np.var(A)\n",
    "var2 = np.var(B)\n",
    "\n",
    "# calculating degree of freedom\n",
    "dfn = n1 -1           # numerator\n",
    "dfd = n2- 1           # denominator\n",
    "\n",
    "# calculating the f-value of the distributions\n",
    "f_val = var1 / var2\n",
    "\n",
    "# calcuclating the p-value\n",
    "p_val = 1 - stat.f.cdf(f_val, dfn, dfd)\n",
    "\n",
    "# decision making\n",
    "if p_val < alpha:\n",
    "    print('Reject the null hypothesis,  variances are significantly different')\n",
    "else:\n",
    "    print('Fail to reject the null hypothesis,  variances are not significantly different')"
   ]
  },
  {
   "cell_type": "code",
   "execution_count": null,
   "id": "61429e12-e104-4353-ab67-8ff1fc70587f",
   "metadata": {},
   "outputs": [],
   "source": []
  },
  {
   "cell_type": "code",
   "execution_count": null,
   "id": "f2f7df6e-870b-4bde-a0c6-5b374a7e4e8b",
   "metadata": {},
   "outputs": [],
   "source": []
  },
  {
   "cell_type": "code",
   "execution_count": null,
   "id": "0f1f18ab-f792-4225-bd34-52a7f23918eb",
   "metadata": {},
   "outputs": [],
   "source": []
  },
  {
   "cell_type": "code",
   "execution_count": null,
   "id": "fe9cbe6c-2c6d-4585-8a36-f4fd21727a4c",
   "metadata": {},
   "outputs": [],
   "source": []
  },
  {
   "cell_type": "code",
   "execution_count": null,
   "id": "32bc9e4f-6319-4436-8d0f-bfd0b78121ad",
   "metadata": {},
   "outputs": [],
   "source": []
  },
  {
   "cell_type": "code",
   "execution_count": null,
   "id": "ad121d0e-cc56-416a-9b08-ccaa0d581a5e",
   "metadata": {},
   "outputs": [],
   "source": []
  }
 ],
 "metadata": {
  "kernelspec": {
   "display_name": "Python 3 (ipykernel)",
   "language": "python",
   "name": "python3"
  },
  "language_info": {
   "codemirror_mode": {
    "name": "ipython",
    "version": 3
   },
   "file_extension": ".py",
   "mimetype": "text/x-python",
   "name": "python",
   "nbconvert_exporter": "python",
   "pygments_lexer": "ipython3",
   "version": "3.10.8"
  }
 },
 "nbformat": 4,
 "nbformat_minor": 5
}
