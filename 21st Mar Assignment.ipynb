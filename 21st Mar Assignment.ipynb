{
 "cells": [
  {
   "cell_type": "markdown",
   "metadata": {},
   "source": [
    "## What is the difference between Ordinal Encoding and Label Encoding? Provide an example of when you might choose one over the other."
   ]
  },
  {
   "cell_type": "markdown",
   "metadata": {},
   "source": [
    "Ordinal encoding and label encoding are both techniques for encoding categorical data into numerical format, but they differ in the way they assign numerical values to categories.\n",
    "\n",
    "Ordinal encoding assigns numerical values to categories based on their order or rank in the dataset. For example, if we have a dataset of clothing sizes with categories \"small,\" \"medium,\" and \"large,\" we can assign them the values 1, 2, and 3 respectively based on their order.\n",
    "\n",
    "Label encoding, on the other hand, assigns numerical values to categories arbitrarily without considering their order. For a variable like color, we could use label encoding and assign values of 0 for red, 1 for blue, 2 for green, etc.\n",
    "\n",
    "__When to choose one over the other:__\n",
    "\n",
    "- If there is a natural ordering or ranking of the categories, it makes sense to use ordinal encoding to preserve this information in the numerical representation.\n",
    "\n",
    "- If there is no natural ordering or ranking of the categories, or if the number of categories is large, it may be better to use label encoding to simplify the representation and reduce the dimensionality of the data."
   ]
  },
  {
   "cell_type": "markdown",
   "metadata": {},
   "source": [
    "## Explain how Target Guided Ordinal Encoding works and provide an example of when you might use it in a machine learning project."
   ]
  },
  {
   "cell_type": "markdown",
   "metadata": {},
   "source": [
    "Target Guided Ordinal Encoding is a technique used to encode categorical variables where the categories are ordered based on the target variable. This technique is useful when there is a strong relationship between the categorical variable and the target variable.\n",
    "\n",
    "- The steps involved in Target Guided Ordinal Encoding are as follows:\n",
    "\n",
    "1. Calculate the mean of the target variable for each category of the categorical variable.\n",
    "2. Sort the categories based on the mean value.\n",
    "3. Assign an ordinal value to each category based on the sorted order.\n",
    "\n",
    "\n",
    "__Example__\n",
    "\n",
    "Suppose you're working on a project to predict house prices, and your dataset contains a feature called \"neighborhood\", which has 10 unique values. You know that the neighborhood in which a house is located can have a significant impact on its price, but you don't want to create 10 new columns using one-hot encoding.\n",
    "\n",
    "In this case, you could use target guided ordinal encoding to transform the \"neighborhood\" feature into a numerical format that captures the relationship between the neighborhood and the target variable (i.e., house price). Here's how you could do it:\n",
    "\n",
    "- Compute the mean house price for each neighborhood.\n",
    "- Sort the neighborhoods in descending order based on their mean house price.\n",
    "- Assign a unique ordinal value to each neighborhood based on its ranking (i.e., the neighborhood with the highest mean house price gets assigned a value of 1, the next highest gets assigned a value of 2, and so on).\n",
    "- Replace the original \"neighborhood\" values with their corresponding ordinal values.\n",
    "\n",
    "By using target guided ordinal encoding, you can capture the relationship between the \"neighborhood\" feature and the target variable in a single numerical column, rather than creating multiple columns using one-hot encoding. This can help to reduce the dimensionality of your dataset and improve the performance of your machine learning models."
   ]
  },
  {
   "cell_type": "markdown",
   "metadata": {},
   "source": [
    "## Define covariance and explain why it is important in statistical analysis. How is covariance calculated?"
   ]
  },
  {
   "cell_type": "markdown",
   "metadata": {},
   "source": [
    "Covariance is a statistical measure that describes the relationship between two random variables. It measures how much two variables change together, and in which direction. A positive covariance indicates that the two variables tend to increase or decrease together, while a negative covariance indicates that one variable tends to increase while the other decreases.\n",
    "\n",
    "__Importance of Covariance__\n",
    "\n",
    "Covariance is important in statistical analysis because it is used to understand the relationship between variables, and to quantify the degree to which changes in one variable are associated with changes in another variable. This is particularly useful in fields such as finance, where understanding the relationship between different stocks or investments is crucial for making informed decisions\n",
    "\n",
    "- Covariance is calculated using the formula:\n",
    "\n",
    "    cov(X,Y) = Σ [ (xi - μx) * (yi - μy) ] / (n - 1)\n",
    "\n",
    "Where:\n",
    "\n",
    "- X and Y are two variables\n",
    "- xi and yi are the individual values of X and Y, respectively\n",
    "- μx and μy are the means of X and Y, respectively\n",
    "- n is the number of observations\n",
    "\n",
    "The numerator of this formula calculates the sum of the products of the deviations of each observation from their respective means, while the denominator adjusts for the number of observations.\n",
    "\n"
   ]
  },
  {
   "cell_type": "markdown",
   "metadata": {},
   "source": [
    "## For a dataset with the following categorical variables: Color (red, green, blue), Size (small, medium, large), and Material (wood, metal, plastic), perform label encoding using Python's scikit-learn library. Show your code and explain the output."
   ]
  },
  {
   "cell_type": "code",
   "execution_count": 1,
   "metadata": {},
   "outputs": [
    {
     "name": "stdout",
     "output_type": "stream",
     "text": [
      "   Color    Size Material  encoded_color  encoded_size  encoded_Material\n",
      "0    red   small     wood              2             2                 2\n",
      "1  green  medium    metal              1             1                 0\n",
      "2   blue   large  plastic              0             0                 1\n",
      "3  green  medium     wood              1             1                 2\n",
      "4    red   small    metal              2             2                 0\n",
      "5   blue   large  plastic              0             0                 1\n"
     ]
    }
   ],
   "source": [
    "from sklearn.preprocessing import LabelEncoder\n",
    "import pandas as pd\n",
    "\n",
    "# create a sample dataset\n",
    "data = {'Color': ['red', 'green', 'blue', 'green', 'red', 'blue'],\n",
    "        'Size': ['small', 'medium', 'large', 'medium', 'small', 'large'],\n",
    "        'Material': ['wood', 'metal', 'plastic', 'wood', 'metal', 'plastic']}\n",
    "\n",
    "df = pd.DataFrame(data)\n",
    "\n",
    "# create instances for LabelEncoder so that it doesnt get problem in transforming new data\n",
    "encoder = LabelEncoder()\n",
    "\n",
    "# transform the data\n",
    "\n",
    "df['encoded_color'] = encoder.fit_transform(df['Color'])\n",
    "df['encoded_size'] = encoder.fit_transform(df['Size'])\n",
    "df['encoded_Material'] = encoder.fit_transform(df['Material'])\n",
    "\n",
    "# print the encoded dataset\n",
    "print(df)\n"
   ]
  },
  {
   "cell_type": "markdown",
   "metadata": {},
   "source": [
    "#### Explanation:\n",
    "As you can see, each categorical variable has been encoded into numerical values. The encoded values for each variable depend on the order in which they appear in the original dataset, and do not have any inherent meaning."
   ]
  },
  {
   "cell_type": "markdown",
   "metadata": {},
   "source": [
    "## Calculate the covariance matrix for the following variables in a dataset: Age, Income, and Education level. Interpret the results."
   ]
  },
  {
   "cell_type": "code",
   "execution_count": 2,
   "metadata": {},
   "outputs": [
    {
     "data": {
      "text/html": [
       "<div>\n",
       "<style scoped>\n",
       "    .dataframe tbody tr th:only-of-type {\n",
       "        vertical-align: middle;\n",
       "    }\n",
       "\n",
       "    .dataframe tbody tr th {\n",
       "        vertical-align: top;\n",
       "    }\n",
       "\n",
       "    .dataframe thead th {\n",
       "        text-align: right;\n",
       "    }\n",
       "</style>\n",
       "<table border=\"1\" class=\"dataframe\">\n",
       "  <thead>\n",
       "    <tr style=\"text-align: right;\">\n",
       "      <th></th>\n",
       "      <th>Age</th>\n",
       "      <th>Income</th>\n",
       "      <th>Education</th>\n",
       "    </tr>\n",
       "  </thead>\n",
       "  <tbody>\n",
       "    <tr>\n",
       "      <th>Age</th>\n",
       "      <td>187.0</td>\n",
       "      <td>1.462500e+05</td>\n",
       "      <td>30.5</td>\n",
       "    </tr>\n",
       "    <tr>\n",
       "      <th>Income</th>\n",
       "      <td>146250.0</td>\n",
       "      <td>1.457800e+09</td>\n",
       "      <td>51950.0</td>\n",
       "    </tr>\n",
       "    <tr>\n",
       "      <th>Education</th>\n",
       "      <td>30.5</td>\n",
       "      <td>5.195000e+04</td>\n",
       "      <td>7.3</td>\n",
       "    </tr>\n",
       "  </tbody>\n",
       "</table>\n",
       "</div>"
      ],
      "text/plain": [
       "                Age        Income  Education\n",
       "Age           187.0  1.462500e+05       30.5\n",
       "Income     146250.0  1.457800e+09    51950.0\n",
       "Education      30.5  5.195000e+04        7.3"
      ]
     },
     "execution_count": 2,
     "metadata": {},
     "output_type": "execute_result"
    }
   ],
   "source": [
    "import pandas as pd\n",
    "import numpy as np\n",
    "\n",
    "data = {'Age': [30, 18, 32, 40, 55],\n",
    "        'Income': [5000, 60000, 70000, 8000, 90000],\n",
    "        'Education': [13, 15, 16, 18, 20]}\n",
    "\n",
    "df = pd.DataFrame(data)\n",
    "\n",
    "# covariance\n",
    "df.cov()"
   ]
  },
  {
   "cell_type": "markdown",
   "metadata": {},
   "source": [
    "We can conclude\n",
    "\n",
    "- Age and Income is positively related.\n",
    "- Age  and Education is also positively related.\n",
    "- Income and Education is also positively related."
   ]
  },
  {
   "cell_type": "markdown",
   "metadata": {},
   "source": [
    "## You are working on a machine learning project with a dataset containing several categorical variables, including \"Gender\" (Male/Female), \"Education Level\" (High School/Bachelor's/Master's/PhD), and \"Employment Status\" (Unemployed/Part-Time/Full-Time). Which encoding method would you use for each variable, and why?"
   ]
  },
  {
   "cell_type": "markdown",
   "metadata": {},
   "source": [
    "#### Gender\n",
    "For the \"Gender\" variable, we can use label encoding as there are only two categories, Male and Female. We can assign 0 to Male and 1 to Female using binary encoding or encode Male as 0 and Female as 1 using label encoding.\n",
    "\n",
    "#### Education Level\n",
    "For the \"Education Level\" variable, we can use ordinal encoding as there is an inherent order to the categories - High School < Bachelor's < Master's < PhD. Ordinal encoding would preserve this order by assigning numerical values to each category according to its rank, e.g., High School can be assigned a value of 1, Bachelor's can be assigned 2, and so on.\n",
    "\n",
    "#### Employment Status\n",
    "For the \"Employment Status\" variable, we can use one-hot encoding as there are more than two categories and they have no inherent order. One-hot encoding would create a separate binary column for each category, with a value of 1 indicating the presence of that category and 0 indicating its absence."
   ]
  },
  {
   "cell_type": "markdown",
   "metadata": {},
   "source": [
    "## You are analyzing a dataset with two continuous variables, \"Temperature\" and \"Humidity\", and two categorical variables, \"Weather Condition\" (Sunny/Cloudy/Rainy) and \"Wind Direction\" (North/South/ East/West). Calculate the covariance between each pair of variables and interpret the results."
   ]
  },
  {
   "cell_type": "code",
   "execution_count": 1,
   "metadata": {},
   "outputs": [
    {
     "data": {
      "text/html": [
       "<div>\n",
       "<style scoped>\n",
       "    .dataframe tbody tr th:only-of-type {\n",
       "        vertical-align: middle;\n",
       "    }\n",
       "\n",
       "    .dataframe tbody tr th {\n",
       "        vertical-align: top;\n",
       "    }\n",
       "\n",
       "    .dataframe thead th {\n",
       "        text-align: right;\n",
       "    }\n",
       "</style>\n",
       "<table border=\"1\" class=\"dataframe\">\n",
       "  <thead>\n",
       "    <tr style=\"text-align: right;\">\n",
       "      <th></th>\n",
       "      <th>Temperature</th>\n",
       "      <th>Humidity</th>\n",
       "      <th>Weather Condition</th>\n",
       "      <th>Wind Direction</th>\n",
       "    </tr>\n",
       "  </thead>\n",
       "  <tbody>\n",
       "    <tr>\n",
       "      <th>Temperature</th>\n",
       "      <td>62.50</td>\n",
       "      <td>125.0</td>\n",
       "      <td>-3.75</td>\n",
       "      <td>1.25</td>\n",
       "    </tr>\n",
       "    <tr>\n",
       "      <th>Humidity</th>\n",
       "      <td>125.00</td>\n",
       "      <td>250.0</td>\n",
       "      <td>-7.50</td>\n",
       "      <td>2.50</td>\n",
       "    </tr>\n",
       "    <tr>\n",
       "      <th>Weather Condition</th>\n",
       "      <td>-3.75</td>\n",
       "      <td>-7.5</td>\n",
       "      <td>0.70</td>\n",
       "      <td>0.40</td>\n",
       "    </tr>\n",
       "    <tr>\n",
       "      <th>Wind Direction</th>\n",
       "      <td>1.25</td>\n",
       "      <td>2.5</td>\n",
       "      <td>0.40</td>\n",
       "      <td>1.30</td>\n",
       "    </tr>\n",
       "  </tbody>\n",
       "</table>\n",
       "</div>"
      ],
      "text/plain": [
       "                   Temperature  Humidity  Weather Condition  Wind Direction\n",
       "Temperature              62.50     125.0              -3.75            1.25\n",
       "Humidity                125.00     250.0              -7.50            2.50\n",
       "Weather Condition        -3.75      -7.5               0.70            0.40\n",
       "Wind Direction            1.25       2.5               0.40            1.30"
      ]
     },
     "execution_count": 1,
     "metadata": {},
     "output_type": "execute_result"
    }
   ],
   "source": [
    "import numpy as np\n",
    "import pandas as pd\n",
    "from sklearn.preprocessing import LabelEncoder\n",
    "\n",
    "# create a sample database\n",
    "\n",
    "data = {'Temperature': [20, 25, 30, 35, 40],\n",
    "        'Humidity': [30, 40, 50, 60, 70],\n",
    "        'Weather Condition': ['Sunny', 'Sunny', 'Cloudy', 'Rainy', 'Rainy'],\n",
    "        'Wind Direction': ['North', 'South', 'East', 'West', 'North']}\n",
    "\n",
    "df = pd.DataFrame(data)\n",
    "\n",
    "# seperate instances for labelEncoder so that new data can be transfer\n",
    "l1_encoder = LabelEncoder()\n",
    "l2_encoder = LabelEncoder()\n",
    "\n",
    "# transform the data\n",
    "df['Weather Condition'] = l1_encoder.fit_transform(df['Weather Condition'])\n",
    "df['Wind Direction'] = l2_encoder.fit_transform(df['Wind Direction'])\n",
    "\n",
    "# Covariance \n",
    "\n",
    "df.cov()"
   ]
  },
  {
   "cell_type": "markdown",
   "metadata": {},
   "source": [
    "We can conclude\n",
    "\n",
    "- Temprature and Humidity is positively related.\n",
    "- Temprature and Weather Condition is negatively related.\n",
    "- Temprature and Wind Direction is also positively related.\n"
   ]
  },
  {
   "cell_type": "code",
   "execution_count": null,
   "metadata": {},
   "outputs": [],
   "source": []
  }
 ],
 "metadata": {
  "kernelspec": {
   "display_name": "Python 3 (ipykernel)",
   "language": "python",
   "name": "python3"
  },
  "language_info": {
   "codemirror_mode": {
    "name": "ipython",
    "version": 3
   },
   "file_extension": ".py",
   "mimetype": "text/x-python",
   "name": "python",
   "nbconvert_exporter": "python",
   "pygments_lexer": "ipython3",
   "version": "3.10.8"
  }
 },
 "nbformat": 4,
 "nbformat_minor": 4
}
