{
 "cells": [
  {
   "cell_type": "markdown",
   "id": "2c015a9a-fb41-4b43-9591-95b3beeb5320",
   "metadata": {},
   "source": [
    "## What is Estimation Statistics? Explain point estimate and interval estimate."
   ]
  },
  {
   "cell_type": "markdown",
   "id": "72962b95-609f-4fe9-aa81-d506776841b7",
   "metadata": {},
   "source": [
    "Estimation Statistics deals with the estimation of unknown parameters of a population based on a sample. It involves using statistical methods to make inferences about population parameters based on the information obtained from a sample of the population.\n",
    "\n",
    "* A point estimate is a single numerical value that is used to estimate an unknown population parameter. \n",
    "> For example, the sample mean is often used as a point estimate of the population mean.\n",
    " \n",
    "* An interval estimate is a range of values that is used to estimate an unknown population parameter. It is also known as a confidence interval. The confidence interval is a range of values that is computed from the sample data and is used to estimate the true population parameter with a certain level of confidence. \n",
    "> For example, a 95% confidence interval for the population mean is a range of values that is expected to contain the true population mean with a 95% probability.\n",
    " \n",
    " "
   ]
  },
  {
   "cell_type": "markdown",
   "id": "88d849b7-7c50-4e75-b1ed-d12a95e9e55f",
   "metadata": {},
   "source": [
    "## Write a Python function to estimate the population mean using a sample mean and standard deviation."
   ]
  },
  {
   "cell_type": "code",
   "execution_count": 7,
   "id": "01003130-f662-4b89-a3d1-a0ce0136f642",
   "metadata": {},
   "outputs": [],
   "source": [
    "import math\n",
    "\n",
    "\n",
    "# making a func for population mean\n",
    "def population_mean( mean, std, size):\n",
    "    # takes 3 args\n",
    "    # mean of the sample\n",
    "    # std of sample\n",
    "    # size of sample\n",
    "    \n",
    "    \n",
    "    # calculating standard error of mean\n",
    "    std_error_mean  = std / math.sqrt(size)\n",
    "    \n",
    "    # z- score for 95% confidence interval\n",
    "    z_score = 1.96\n",
    "    \n",
    "    margin_error = std_error_mean * z_score\n",
    "    \n",
    "    # uppper bound \n",
    "    upper_bound = mean + margin_error\n",
    "    \n",
    "    #lower bound \n",
    "    lower_bound = mean - margin_error\n",
    "    \n",
    "    estimated_mean = (upper_bound + lower_bound) /2\n",
    "    \n",
    "    return estimated_mean\n",
    "    "
   ]
  },
  {
   "cell_type": "markdown",
   "id": "1ef17918-ad83-4083-928c-2c5d55cc3927",
   "metadata": {},
   "source": [
    "## What is Hypothesis testing? Why is it used? State the importance of Hypothesis testing."
   ]
  },
  {
   "cell_type": "markdown",
   "id": "8e72f861-0b6d-4327-bf3a-3841cd75f1be",
   "metadata": {},
   "source": [
    "Hypothesis testing is a statistical method that is used to make inferences about population parameters based on sample data. It involves testing a hypothesis about a population parameter by comparing the observed sample data to the expected values under a null hypothesis.\n",
    "\n",
    "Hypothesis testing is used to determine whether the observed sample data is consistent with the null hypothesis or whether it provides evidence to reject the null hypothesis in favor of the alternative hypothesis. The result of a hypothesis test is either to reject the null hypothesis or to fail to reject the null hypothesis.\n",
    "\n",
    "Hypothesis testing is used in a variety of fields, including business, medicine, social sciences, and engineering. It is used to test research hypotheses, to evaluate the effectiveness of treatments or interventions, to compare the performance of different products or processes, to validate models or theories, and to make decisions based on data.\n",
    "\n",
    "Some importance of hypothesis testing are; It helps to make data-driven decisions, Evaluates the effectiveness of a treatment or intervention, Identifies errors in the decision-making process, Provides a basis for scientific research, Helps to test business and marketing strategies. "
   ]
  },
  {
   "cell_type": "markdown",
   "id": "1de1b8fd-7dba-4f5e-a169-7f06e100c081",
   "metadata": {},
   "source": [
    "## Create a hypothesis that states whether the average weight of male college students is greater than the average weight of female college students."
   ]
  },
  {
   "cell_type": "markdown",
   "id": "57a95ad1-43f6-441c-98c5-b510905b1299",
   "metadata": {},
   "source": [
    "* Null hypothesis (H0) \n",
    "\n",
    "        The average weight of male college students is equal to or less than the average weight of female college students.\n",
    "        µm ≤ µf\n",
    "\n",
    "* Alternate hypothesis (H1) \n",
    "\n",
    "        The average weight of male college students is greater than the average weight of female college students.\n",
    "        µm > µf\n",
    "\n",
    "> where:\n",
    "\n",
    "        µm is the avg weight of male students, and\n",
    "        µf is the avg wight of female student"
   ]
  },
  {
   "cell_type": "markdown",
   "id": "ec1bd835-9e08-4d46-b89d-bacb62187e65",
   "metadata": {},
   "source": [
    "## Write a Python script to conduct a hypothesis test on the difference between two population means, given a sample from each population."
   ]
  },
  {
   "cell_type": "code",
   "execution_count": 31,
   "id": "75189688-60c5-438a-9ff3-cf5429346b85",
   "metadata": {},
   "outputs": [
    {
     "name": "stdout",
     "output_type": "stream",
     "text": [
      "statistic = -1.1647865889662303, p-value = 0.2593923861986765\n",
      "Fail to reject the null hypothesis. The difference in means is not statistically significant.\n"
     ]
    }
   ],
   "source": [
    "import numpy as np\n",
    "from scipy import stats\n",
    "\n",
    "H0 : mean1 = mean2\n",
    "H1 : mean1 != mean2\n",
    "\n",
    "# Generating two samples from two populations\n",
    "np.random.seed(132)\n",
    "sample_1 = np.random.normal(loc=10 , scale=2, size=10)\n",
    "sample_2 = np.random.normal(loc=12 , scale=2, size=10)\n",
    "\n",
    "# hypothesis test on the difference between the means of the two populations\n",
    "alpha = 0.05\n",
    "statistic, p_val = stats.ttest_ind(sample_1, sample_2, equal_var=False)\n",
    "\n",
    "print(f\"statistic = {statistic}, p-value = {p_val}\")\n",
    "\n",
    "# Compare the p-value to the significance level and draw a conclusion\n",
    "if p_val < alpha:\n",
    "    print(\"Reject the null hypothesis. The difference in means is statistically significant.\")\n",
    "else:\n",
    "    print(\"Fail to reject the null hypothesis. The difference in means is not statistically significant.\")\n"
   ]
  },
  {
   "cell_type": "markdown",
   "id": "f22b700e-1e5f-4b7b-a077-8d541bd42539",
   "metadata": {},
   "source": [
    "## What is a null and alternative hypothesis? Give some examples."
   ]
  },
  {
   "cell_type": "markdown",
   "id": "898e5773-b7a7-4504-8b66-cf3b1b979fd6",
   "metadata": {},
   "source": [
    "In statistics, a null hypothesis is a statement that suggests that there is no significant difference or relationship between two or more variables in a population. It is denoted by H0. The null hypothesis is usually the default or starting point assumption, which is tested against an alternative hypothesis.\n",
    "\n",
    "The alternative hypothesis, denoted by Ha, is a statement that suggests that there is a significant difference or relationship between the variables in a population. It is usually what the researcher wants to prove or find evidence for.\n",
    "\n",
    "For example, suppose a researcher wants to test whether a new drug is effective in treating a particular disease. The null hypothesis would be that there is no significant difference in the recovery time between patients who receive the new drug and those who receive a placebo. The alternative hypothesis would be that there is a significant difference in the recovery time between the two groups.\n"
   ]
  },
  {
   "cell_type": "markdown",
   "id": "e6d0a58a-b1cc-4abd-8cef-6e32e9b2cc32",
   "metadata": {},
   "source": [
    "## Write down the steps involved in hypothesis testing."
   ]
  },
  {
   "cell_type": "markdown",
   "id": "fcb4b005-b712-43b4-bb92-014cd1eae577",
   "metadata": {},
   "source": [
    "Hypothesis testing is a process used to determine whether a claim or hypothesis about a population is supported by empirical evidence. The steps involved in hypothesis testing are:\n",
    "\n",
    "* State the null and alternative hypotheses: The null hypothesis (H0) is the default assumption or claim that there is no significant difference between the two populations being compared. The alternative hypothesis (Ha) is the claim that is being tested against the null hypothesis.\n",
    "\n",
    "* Determine the level of significance: The level of significance (alpha) is the probability of rejecting the null hypothesis when it is actually true. It is usually set at 0.05 or 0.01.\n",
    "\n",
    "* Select the appropriate test statistic: The choice of the test statistic depends on the type of data being analyzed and the research question being asked. Common test statistics include t-tests, z-tests, chi-squared tests, and ANOVA.\n",
    "\n",
    "* Determine the critical value or p-value: The critical value is the value of the test statistic that corresponds to the level of significance and the degrees of freedom. The p-value is the probability of observing a test statistic as extreme or more extreme than the one observed if the null hypothesis is true.\n",
    "\n",
    "* Conduct the test: Calculate the test statistic and compare it to the critical value or p-value. If the test statistic is greater than the critical value or the p-value is less than the level of significance, reject the null hypothesis. If the test statistic is less than the critical value or the p-value is greater than the level of significance, fail to reject the null hypothesis.\n",
    "\n",
    "* Draw conclusions: Based on the results of the test, draw conclusions about the hypothesis being tested. If the null hypothesis is rejected, accept the alternative hypothesis. If the null hypothesis is not rejected, do not accept the alternative hypothesis.\n",
    "\n",
    "* Interpret the results: Explain what the results mean in the context of the research question being asked. Consider the practical significance of the results as well as the statistical significance."
   ]
  },
  {
   "cell_type": "markdown",
   "id": "916100d9-3560-4868-b9a5-c6bf8d5f9d07",
   "metadata": {},
   "source": [
    "## Define p-value and explain its significance in hypothesis testing."
   ]
  },
  {
   "cell_type": "markdown",
   "id": "f5da6594-09e2-4a99-805a-c3a36a3a9a33",
   "metadata": {},
   "source": [
    "In hypothesis testing, the p-value is the probability of obtaining a test statistic as extreme or more extreme than the observed one, assuming that the null hypothesis is true. In other words, it is the probability of observing the data or more extreme data if the null hypothesis is true.\n",
    "\n",
    "The p-value is used to make a decision about whether to reject or fail to reject the null hypothesis. The p-value is compared to the level of significance, usually set at 0.05 or 0.01. If the p-value is less than or equal to the level of significance, then the null hypothesis is rejected. If the p-value is greater than the level of significance, then the null hypothesis is not rejected.\n",
    "\n",
    "The significance of the p-value is that it provides a measure of the strength of the evidence against the null hypothesis. A small p-value indicates that the observed data is unlikely to occur by chance if the null hypothesis is true, and therefore, provides strong evidence against the null hypothesis. Conversely, a large p-value indicates that the observed data is likely to occur by chance if the null hypothesis is true, and therefore, provides weak evidence against the null hypothesis."
   ]
  },
  {
   "cell_type": "markdown",
   "id": "1048a302-2a47-4868-a1e8-b4d620cc4459",
   "metadata": {},
   "source": [
    "## Generate a Student's t-distribution plot using Python's matplotlib library, with the degrees of freedom parameter set to 10."
   ]
  },
  {
   "cell_type": "code",
   "execution_count": 22,
   "id": "e47b11b3-b2ac-467c-b08e-49e2acca40ff",
   "metadata": {},
   "outputs": [
    {
     "data": {
      "image/png": "[encoded data removed]",
      "text/plain": [
       "<Figure size 640x480 with 1 Axes>"
      ]
     },
     "metadata": {},
     "output_type": "display_data"
    }
   ],
   "source": [
    "import numpy as np\n",
    "from scipy import stats\n",
    "import matplotlib.pyplot as plt\n",
    "\n",
    "# creating distribution \n",
    "x= np.linspace(-5,5, 100)\n",
    "\n",
    "#degree of freedom\n",
    "df= 10\n",
    "\n",
    "# using t- distribution to find out value of t\n",
    "t = stats.t.pdf(x , df)\n",
    "\n",
    "# plotting\n",
    "plt.plot(t)\n",
    "plt.title(\"Student's t-distribution with df = 10\")\n",
    "plt.xlabel('x')\n",
    "plt.ylabel('Probability density')\n",
    "plt.show()\n"
   ]
  },
  {
   "cell_type": "markdown",
   "id": "0cbb5d36-2538-448b-9459-bcf8721ea472",
   "metadata": {},
   "source": [
    "## Write a Python program to calculate the two-sample t-test for independent samples, given two random samples of equal size and a null hypothesis that the population means are equal."
   ]
  },
  {
   "cell_type": "code",
   "execution_count": 35,
   "id": "0cc80a83-8d10-408b-9b69-5bfe883651a1",
   "metadata": {},
   "outputs": [
    {
     "name": "stdout",
     "output_type": "stream",
     "text": [
      "Reject the null hypothesis. The population means are not equal.\n",
      "statistic = 4.86572132108092, p-value = 0.00012425845450897668\n"
     ]
    }
   ],
   "source": [
    "import numpy as np\n",
    "from scipy import stats\n",
    "\n",
    "# Generating two samples from two populations\n",
    "np.random.seed(132)\n",
    "sample_1 = np.random.normal(loc=16 , scale=2, size=10)\n",
    "sample_2 = np.random.normal(loc=14 , scale=2, size=10)\n",
    "\n",
    "# hypothesis test on the difference between the means of the two populations\n",
    "alpha = 0.05\n",
    "stat, p_val = stats.ttest_ind(sample_1, sample_2)\n",
    "\n",
    "\n",
    "# Compare the p-value to the significance level and draw a conclusion\n",
    "if p_val < alpha:\n",
    "    print(\"Reject the null hypothesis. The population means are not equal.\")\n",
    "else:\n",
    "    print(\"Fail to reject the null hypothesis. The difference in means is not statistically significant.\")\n",
    "print(f\"statistic = {stat}, p-value = {p_val}\")\n"
   ]
  },
  {
   "cell_type": "markdown",
   "id": "7b947a59-eeba-4ec8-a5ba-e1fc3933aeba",
   "metadata": {},
   "source": [
    "## What is Student’s t distribution? When to use the t-Distribution."
   ]
  },
  {
   "cell_type": "markdown",
   "id": "e9171a6c-ce4a-4418-8b6b-347a29dda240",
   "metadata": {},
   "source": [
    "Student's t-distribution is a probability distribution that is used in statistical inference to estimate the population mean when the sample size is small or the population variance is unknown. The shape of the t-distribution changes depending on the degrees of freedom (df), which is the number of independent observations in the sample minus one. As the degrees of freedom increase, the t-distribution approaches the standard normal distribution.\n",
    "\n",
    "The t-distribution is used when the following conditions are met:\n",
    "\n",
    "* The sample size is small (typically n < 30).\n",
    "* The population standard deviation is unknown.\n",
    "* The population is assumed to be normal or the sample size is large enough for the central limit theorem to apply."
   ]
  },
  {
   "cell_type": "markdown",
   "id": "9f544090-138b-4894-8b0d-bf980318ded8",
   "metadata": {},
   "source": [
    "## What is t-statistic? State the formula for t-statistic."
   ]
  },
  {
   "cell_type": "markdown",
   "id": "781b7e8f-9ef7-4bbb-91f8-7eb19cf38c41",
   "metadata": {},
   "source": [
    "The t-statistic is a measure used in hypothesis testing to determine if the difference between two sample means is significant. It measures the difference between the means of two groups relative to the variation within each group.\n",
    "\n",
    "The formula for t-statistic is:\n",
    "\n",
    "t = (x1 - x2) / (s * sqrt(1/n1 + 1/n2))\n",
    "\n",
    "where:\n",
    "\n",
    "x1 and x2 are the means of the two groups being compared\n",
    "s is the pooled standard deviation of the two groups\n",
    "n1 and n2 are the sample sizes of the two groups"
   ]
  },
  {
   "cell_type": "markdown",
   "id": "59c42ac2-e668-4e3a-a8b2-90f69029300a",
   "metadata": {},
   "source": [
    "## A coffee shop owner wants to estimate the average daily revenue for their shop. They take a random sample of 50 days and find the sample mean revenue to be USD 500 with a standard deviation of $50. Estimate the population mean revenue with a 95% confidence interval."
   ]
  },
  {
   "cell_type": "raw",
   "id": "75bc410e-2443-4717-b078-21780ec8bbb3",
   "metadata": {},
   "source": [
    "Given :\n",
    "size(n) = 50\n",
    "sample mean (x̄)= 500\n",
    "std = 50\n",
    "confidence interval = 95%\n",
    "\n",
    "standard error mean = std/√n\n",
    "                    = 50 / √50\n",
    "                    = √50\n",
    "\n",
    "at 95% confidence interval \n",
    "z-score = 1.96\n",
    "\n",
    "margin of error = standard error mean * z-score\n",
    "                = 1.96 * √50\n",
    "                = 13.85\n",
    "\n",
    "upper bound = sample mean + margin of error\n",
    "            = 500 + 13.85\n",
    "            = 513.85\n",
    "lower bound = sample mean + margin of error\n",
    "            = 500 - 13.85\n",
    "            = 486.15\n",
    "                \n",
    "The population mean revenue lies between USD 513.85 and USD 486.15"
   ]
  },
  {
   "cell_type": "code",
   "execution_count": 2,
   "id": "c772ce82-9e01-4284-b9f1-96347c31f6a5",
   "metadata": {},
   "outputs": [
    {
     "name": "stdout",
     "output_type": "stream",
     "text": [
      "The confidence interval is 486.1407070887437 and 513.8592929112564\n"
     ]
    }
   ],
   "source": [
    "import math\n",
    "# making a func for population mean\n",
    "def population_mean( mean, std, size):\n",
    "    # takes 3 args\n",
    "    # mean of the sample\n",
    "    # std of sample\n",
    "    # size of sample\n",
    "    \n",
    "    \n",
    "    # calculating standard error of mean\n",
    "    std_error_mean  = std / math.sqrt(size)\n",
    "    \n",
    "    # z- score for 95% confidence interval\n",
    "    z_score = 1.96\n",
    "    \n",
    "    margin_error = std_error_mean * z_score\n",
    "    \n",
    "    # uppper bound \n",
    "    upper_bound = mean + margin_error\n",
    "    \n",
    "    #lower bound \n",
    "    lower_bound = mean - margin_error\n",
    "    \n",
    "    print(f'The confidence interval is {lower_bound} and {upper_bound}' )\n",
    "    \n",
    "mean = 500\n",
    "std = 50\n",
    "size = 50\n",
    "    \n",
    "population_mean(500, 50, 50)\n",
    "    "
   ]
  },
  {
   "cell_type": "markdown",
   "id": "e8ef10c0-31c5-4103-82d5-db82fbc876ee",
   "metadata": {},
   "source": [
    "## A researcher hypothesizes that a new drug will decrease blood pressure by 10 mmHg. They conduct a clinical trial with 100 patients and find that the sample mean decrease in blood pressure is 8 mmHg with a standard deviation of 3 mmHg. Test the hypothesis with a significance level of 0.05."
   ]
  },
  {
   "cell_type": "raw",
   "id": "d3b40bed-e0eb-427e-bae7-75d2b31b9689",
   "metadata": {},
   "source": [
    "Given:\n",
    "population mean = 10\n",
    "size = 100\n",
    "sample mean = 8\n",
    "sample std = 3\n",
    "alpha = 0.05\n",
    "\n",
    "Null hypothesis \n",
    "hypothesized mean = 10\n",
    "\n",
    "Alternate hypothesis\n",
    "popolation mean < 10\n",
    "\n",
    "as the population std is not given we will apply one tail(left), t-test \n",
    "\n",
    "t = (sample mean - hypothesized mean) / (standard deviation / sqrt(sample size))\n",
    "\n",
    "t = (8 - 10) / (3 / sqrt(100))\n",
    "t = -6.67\n",
    "\n",
    "Now, using t-table at 0.05 significance level, one tail test and degree of freedom 99 (100-1), the t-critical is\n",
    "\n",
    "    = -1.660\n",
    "\n",
    "since the t value is less than t- critical we can reject null hypothesis.\n",
    "So, we can conclude that the sample mean decrease in blood pressure of 8 mmHg is significantly less than the hypothesized decrease of 10 mmHg."
   ]
  },
  {
   "cell_type": "code",
   "execution_count": 24,
   "id": "087935f3-857f-483a-b284-3737c744f331",
   "metadata": {},
   "outputs": [
    {
     "name": "stdout",
     "output_type": "stream",
     "text": [
      "Rejecting Null hypothesis as the value of t -6.666666666666667 is less than critical t -1.6603911559963902\n",
      "The sample mean decrease in blood pressure of 8 mmHg is significantly less than the hypothesized decrease of 10 mmHg.\n"
     ]
    }
   ],
   "source": [
    "import math\n",
    "import scipy.stats as stat\n",
    "\n",
    "# Given:\n",
    "population_mean = 10\n",
    "size = 100\n",
    "sample_mean = 8\n",
    "sample_std = 3\n",
    "alpha = 0.05\n",
    "\n",
    "'''\n",
    "Null hypothesis \n",
    "hypothesized mean = 10\n",
    "\n",
    "Alternate hypothesis\n",
    "popolation mean < 10\n",
    "\n",
    "as the population std is not given we will apply one tail(left), t-test \n",
    "\n",
    "'''\n",
    "\n",
    "t_value = (sample_mean - population_mean) / (sample_std / math.sqrt(size))\n",
    "\n",
    "t_critical = stat.t.ppf( q = alpha, df = size-1 )\n",
    "\n",
    "if t_value < t_critical:\n",
    "    print(f'Rejecting Null hypothesis as the value of t {t_value} is less than critical t {t_critical}')\n",
    "    print('The sample mean decrease in blood pressure of 8 mmHg is significantly less than the hypothesized decrease of 10 mmHg.')\n",
    "else:\n",
    "    print(f' Accepting the null hypothesis as the value of t {t_value} is greater than critital t {t_critical}')"
   ]
  },
  {
   "cell_type": "markdown",
   "id": "3f1a9ca3-90c7-497c-90e2-14e99bb4c6a4",
   "metadata": {},
   "source": [
    "## An electronics company produces a certain type of product with a mean weight of 5 pounds and a standard deviation of 0.5 pounds. A random sample of 25 products is taken, and the sample mean weight is found to be 4.8 pounds. Test the hypothesis that the true mean weight of the products is less than 5 pounds with a significance level of 0.01."
   ]
  },
  {
   "cell_type": "raw",
   "id": "7fe584d4-9c6d-4acb-8d5e-9dba6064bfce",
   "metadata": {},
   "source": [
    "Given:\n",
    "population mean = 5\n",
    "size = 25\n",
    "sample mean = 4.8\n",
    "std = 3\n",
    "alpha = 0.01\n",
    "\n",
    "Null hypothesis \n",
    "hypothesized mean = 5\n",
    "\n",
    "Alternate hypothesis\n",
    "popolation mean < 5\n",
    "\n",
    "as the population std is not given we will apply one tail(left), t-test \n",
    "\n",
    "t = (sample mean - sample mean) / (std / sqrt(size))\n",
    "\n",
    "t = (4.8 - 5) / (0.5 / sqrt(25))\n",
    "t = -2\n",
    "\n",
    "Now, using t-table at 0.01 significance level, one tail test and degree of freedom 24 (25-1), the t-critical is\n",
    "\n",
    "    = - 2.492\n",
    "\n",
    "since the t value is greater than t- critical we fail to reject null hypothesis.\n",
    "So, there is not enough evidence to suggest that the true mean weight of the products is less than 5 pounds."
   ]
  },
  {
   "cell_type": "code",
   "execution_count": null,
   "id": "e70166a4-c648-46dc-a7cc-934da7e4e435",
   "metadata": {},
   "outputs": [
    {
     "name": "stdout",
     "output_type": "stream",
     "text": [
      "Fail to reject null hypothesis as the value of t -2.0000000000000018 is greater than critical t -2.4921594731575762\n",
      "There is not enough evidence to suggest that the true mean weight of the products is less than 5 pounds.\n"
     ]
    }
   ],
   "source": [
    "import math\n",
    "import scipy.stats as stat\n",
    "\n",
    "# Given:\n",
    "population_mean = 5\n",
    "size = 25\n",
    "sample_mean = 4.8\n",
    "std = 0.5\n",
    "alpha = 0.01\n",
    "\n",
    "'''\n",
    "Null hypothesis \n",
    "hypothesized mean = 10\n",
    "\n",
    "Alternate hypothesis\n",
    "popolation mean < 10\n",
    "\n",
    "as the population std is not given we will apply one tail(left), t-test \n",
    "\n",
    "'''\n",
    "\n",
    "t_value = (sample_mean - population_mean) / (std / math.sqrt(size))\n",
    "\n",
    "t_critical = stat.t.ppf( q = alpha, df = size-1 )\n",
    "\n",
    "if t_value > t_critical:\n",
    "    print(f'Fail to reject null hypothesis as the value of t {t_value} is greater than critical t {t_critical}')\n",
    "    print('There is not enough evidence to suggest that the true mean weight of the products is less than 5 pounds.')\n",
    "else:\n",
    "    print(f'Reject the null hypothesis as the value of t {t_value} is less than critital t {t_critical}')"
   ]
  },
  {
   "cell_type": "markdown",
   "id": "92456fbd-28ee-4a83-8051-449410465e0e",
   "metadata": {},
   "source": [
    "## Two groups of students are given different study materials to prepare for a test. The first group (n1 = 30) has a mean score of 80 with a standard deviation of 10, and the second group (n2 = 40) has a mean score of 75 with a standard deviation of 8. Test the hypothesis that the population means for the two groups are equal with a significance level of 0.01."
   ]
  },
  {
   "cell_type": "raw",
   "id": "bd8218d7-b985-43fe-b7ee-380218176742",
   "metadata": {},
   "source": [
    "Given:\n",
    "n1= 30\n",
    "x̄1 = 80\n",
    "σ1 = 10\n",
    "n2 = 40\n",
    "x̄2 = 75\n",
    "σ2 = 8\n",
    "alpha = 0.01\n",
    "\n",
    "Null hypothesis:\n",
    "(μ1 = μ2)\n",
    "\n",
    "Alternate hypothesis:\n",
    "(μ1 != μ2) \n",
    "\n",
    "\n",
    "|z|= (x̄1 – x̄2 ) / √((σ1 )²/n1 + (σ2)²/n2)\n",
    "|z|= 0.711\n",
    "\n",
    "z score at 0.01 significance value of 2 tail test is\n",
    "z(alpha) = 2.58\n",
    "\n",
    "|z| < z(alpha)\n",
    "\n",
    "fail to reject the null hypothesis.\n",
    "\n",
    "conclusion : the population means for the two groups are equal\n"
   ]
  },
  {
   "cell_type": "markdown",
   "id": "74873e97-81f7-4125-8d4e-2a54b59fa678",
   "metadata": {},
   "source": [
    "## A marketing company wants to estimate the average number of ads watched by viewers during a TV program. They take a random sample of 50 viewers and find that the sample mean is 4 with a standard deviation of 1.5. Estimate the population mean with a 99% confidence interval."
   ]
  },
  {
   "cell_type": "markdown",
   "id": "8e2f7f4a-59ae-4987-bfc3-a83b7b934b38",
   "metadata": {},
   "source": [
    "\n",
    "Confidence interval = sample mean ± margin of error\n",
    "\n",
    "The margin of error can be calculated using the formula:\n",
    "\n",
    "Margin of error = z* (standard error)\n",
    "\n",
    "where z is the critical value \n",
    "\n",
    "Standard error = (standard deviation / √n)\n",
    "\n",
    "Substituting the given values, we get:\n",
    "\n",
    "Standard error = (1.5 / √50) = 0.2121\n",
    "\n",
    "The critical value corresponding to a 99% confidence level is 2.58\n",
    "\n",
    "The margin of error = 2.58 * 0.2121 = 0.547\n",
    "\n",
    "Therefore, the 99% confidence interval for the population mean number of ads watched by viewers during a TV program is:\n",
    "\n",
    "4 ± 0.547, or (3.452, 4.547)\n",
    "\n",
    "We can be 99% confident that the true population mean number of ads watched by viewers during a TV program lies within this interval."
   ]
  },
  {
   "cell_type": "code",
   "execution_count": 11,
   "id": "510b4e98-29e1-4ca7-9332-e4d95b686b6d",
   "metadata": {},
   "outputs": [
    {
     "name": "stdout",
     "output_type": "stream",
     "text": [
      "Ads watched by viewers during a TV program lies within this interval 3.452699351361612 and 4.547300648638387\n"
     ]
    }
   ],
   "source": [
    "import math\n",
    "# making a func for population mean\n",
    "def ads_watch( mean, std, size):\n",
    "    # takes 3 args\n",
    "    # mean of the sample\n",
    "    # std of sample\n",
    "    # size of sample\n",
    "    \n",
    "    \n",
    "    # calculating standard error of mean\n",
    "    std_error_mean  = std / math.sqrt(size)\n",
    "    \n",
    "    # z- score for 99% confidence interval\n",
    "    z_score = 2.58\n",
    "    \n",
    "    margin_error = std_error_mean * z_score\n",
    "    \n",
    "    # uppper bound \n",
    "    upper_bound = mean + margin_error\n",
    "    \n",
    "    #lower bound \n",
    "    lower_bound = mean - margin_error\n",
    "    \n",
    "    print(f'Ads watched by viewers during a TV program lies within this interval {lower_bound} and {upper_bound}' )\n",
    "    \n",
    "mean = 4\n",
    "std = 1.5\n",
    "size = 50\n",
    "    \n",
    "ads_watch(4, 1.5, 50)"
   ]
  }
 ],
 "metadata": {
  "kernelspec": {
   "display_name": "Python 3 (ipykernel)",
   "language": "python",
   "name": "python3"
  },
  "language_info": {
   "codemirror_mode": {
    "name": "ipython",
    "version": 3
   },
   "file_extension": ".py",
   "mimetype": "text/x-python",
   "name": "python",
   "nbconvert_exporter": "python",
   "pygments_lexer": "ipython3",
   "version": "3.10.8"
  }
 },
 "nbformat": 4,
 "nbformat_minor": 5
}
