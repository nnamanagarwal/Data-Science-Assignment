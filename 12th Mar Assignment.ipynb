{
 "cells": [
  {
   "cell_type": "markdown",
   "id": "1417e4d4-a2d8-4a6e-827e-aee57754e877",
   "metadata": {},
   "source": [
    "## Calculate the 95% confidence interval for a sample of data with a mean of 50 and a standard deviation of 5 using Python. Interpret the results."
   ]
  },
  {
   "cell_type": "code",
   "execution_count": 13,
   "id": "d62c24ff-1202-47e5-9622-64f11a605ac2",
   "metadata": {},
   "outputs": [
    {
     "name": "stdout",
     "output_type": "stream",
     "text": [
      "95% Confidence interval for the given data (40.200180077299734, 59.799819922700266)\n"
     ]
    }
   ],
   "source": [
    "import scipy.stats as stat\n",
    "\n",
    "#Given\n",
    "'''\n",
    "confidence interval = 0.95\n",
    "mean = 50\n",
    "std = 5\n",
    "'''\n",
    "\n",
    "boundaries = stat.norm.interval(.95, 50, 5)\n",
    "print(\"95% Confidence interval for the given data\", boundaries)"
   ]
  },
  {
   "cell_type": "markdown",
   "id": "9ff08f9f-6610-4c5b-bc15-48b6ccbf7ec8",
   "metadata": {},
   "source": [
    "## Conduct a chi-square goodness of fit test to determine if the distribution of colors of M&Ms in a bag matches the expected distribution of 20% blue, 20% orange, 20% green, 10% yellow, 10% red, and 20% brown. Use Python to perform the test with a significance level of 0.05."
   ]
  },
  {
   "cell_type": "code",
   "execution_count": 88,
   "id": "cc662172-d17a-4bd2-a95d-e576b56cc73d",
   "metadata": {},
   "outputs": [
    {
     "name": "stdout",
     "output_type": "stream",
     "text": [
      "Fail to reject the null hypothesis, The distribution of colors of M&Ms in a bag matches the expected distribution\n",
      "critical= 11.070497693516351, \n",
      "statistics = 2.8913043478260865\n"
     ]
    }
   ],
   "source": [
    "import scipy.stats as stat\n",
    "import numpy as np\n",
    "\n",
    "## Null Hypothesis:\n",
    "## The distribution of colors of M&Ms in a bag matches the expected distribution\n",
    "\n",
    "## Alternate the hpothesis:\n",
    "## The distribution of colors of M&Ms in a bag does not matches the expected distribution\n",
    "\n",
    "\n",
    "# generating the sample of 6 parameter\n",
    "np.random.seed(33)\n",
    "observed = np.random.randint(10, 20, 6)\n",
    "\n",
    "# sum of all outcomes\n",
    "n = observed.sum()\n",
    "\n",
    "# expected data (converting % into the data values)\n",
    "expected = np.array([0.2, 0.2, 0.2, 0.1, 0.1, 0.2]) *n\n",
    "\n",
    "# stats and p-value\n",
    "chisq_stats , p_val = stat.chisquare(observed, expected)\n",
    "\n",
    "# critical value\n",
    "chisq_critical = stat.chi2.ppf(0.95, 5)\n",
    "\n",
    "if chisq_critical > chisq_stats:\n",
    "    print('Fail to reject the null hypothesis, The distribution of colors of M&Ms in a bag matches the expected distribution')\n",
    "else:\n",
    "    print('Reject the null hypothesis, The distribution of colors of M&Ms in a bag does not matches the expected distribution')\n",
    "print(f'critical= {chisq_critical}, \\nstatistics = {chisq_stats}')"
   ]
  },
  {
   "cell_type": "markdown",
   "id": "9a0a4af7-fad6-4bbd-9a8b-bca5f34ced49",
   "metadata": {},
   "source": [
    "## Use Python to calculate the chi-square statistic and p-value for a contingency table with the following data:\n",
    "####  Contingency table for the group A and B  = [[20, 15], [10, 25], [15, 20]]"
   ]
  },
  {
   "cell_type": "code",
   "execution_count": 95,
   "id": "40ede965-4046-48b9-a8af-5fc0c64f1262",
   "metadata": {},
   "outputs": [
    {
     "name": "stdout",
     "output_type": "stream",
     "text": [
      "chi-square statistic= 5.833333333333334 \n",
      "p-value= 0.05411376622282158\n"
     ]
    }
   ],
   "source": [
    "import scipy.stats as stat\n",
    "\n",
    "# contingency table for the group A and B \n",
    "obs = [[20, 15], [10, 25], [15, 20]]\n",
    "\n",
    "statistic , p_value, dof, expected_freq = stat.chi2_contingency(obs)\n",
    "\n",
    "print(f'chi-square statistic= {statistic} \\np-value= {p_value}')"
   ]
  },
  {
   "cell_type": "markdown",
   "id": "48b69640-b372-41f0-b298-9d0508e0c563",
   "metadata": {},
   "source": [
    "## A study of the prevalence of smoking in a population of 500 individuals found that 60 individuals smoked. Use Python to calculate the 95% confidence interval for the true proportion of individuals in the population who smoke."
   ]
  },
  {
   "cell_type": "code",
   "execution_count": 55,
   "id": "5391e13b-afb8-48d3-b846-4c1dee41a2b5",
   "metadata": {},
   "outputs": [
    {
     "name": "stdout",
     "output_type": "stream",
     "text": [
      "95% confidence interval: (45.7579, 74.2421)\n"
     ]
    }
   ],
   "source": [
    "import math\n",
    "# sample proportion\n",
    "p = 60/500\n",
    "\n",
    "# z-score for 95% confidence level\n",
    "z = 1.96\n",
    "\n",
    "# sample size\n",
    "n = 500\n",
    "\n",
    "# calculate standard error\n",
    "standard_error = math.sqrt(p*(1-p)/n)\n",
    "\n",
    "\n",
    "# calculate margin of error\n",
    "margin_error = z * standard_error\n",
    "\n",
    "# calculate lower and upper bounds of the confidence interval\n",
    "lower = (p - margin_error)*n\n",
    "upper = (p + margin_error)*n\n",
    "\n",
    "# print the results\n",
    "print(\"95% confidence interval: ({:.4f}, {:.4f})\".format(lower, upper))"
   ]
  },
  {
   "cell_type": "markdown",
   "id": "b20d6e3d-4398-491d-b345-04890779551e",
   "metadata": {},
   "source": [
    "## Calculate the 90% confidence interval for a sample of data with a mean of 75 and a standard deviation of 12 using Python. Interpret the results."
   ]
  },
  {
   "cell_type": "code",
   "execution_count": 11,
   "id": "9bbd541f-710c-4275-a59a-7d9783fb77a4",
   "metadata": {},
   "outputs": [
    {
     "name": "stdout",
     "output_type": "stream",
     "text": [
      "Confidence Intervals are (55.26175647658233, 94.73824352341767)\n"
     ]
    }
   ],
   "source": [
    "import scipy.stats as stat\n",
    "\n",
    "confidence_level = 0.90\n",
    "mean = 75\n",
    "std =12\n",
    "\n",
    "\n",
    "# calculating the confidence_interval\n",
    "confidence_interval = stat.norm.interval(confidence_level , mean , std)\n",
    "\n",
    "print(\"Confidence Intervals are\", confidence_interval)"
   ]
  },
  {
   "cell_type": "markdown",
   "id": "0d7665f3-184c-46ce-ae41-69912bddf8fc",
   "metadata": {},
   "source": [
    "## Use Python to plot the chi-square distribution with 10 degrees of freedom. Label the axes and shade the area corresponding to a chi-square statistic of 15."
   ]
  },
  {
   "cell_type": "code",
   "execution_count": null,
   "id": "1fe839dc-6dc7-4141-a2f0-8f2b5e31b050",
   "metadata": {},
   "outputs": [
    {
     "data": {
      "image/png": "[encoded data removed]",
      "text/plain": [
       "<Figure size 640x480 with 1 Axes>"
      ]
     },
     "metadata": {},
     "output_type": "display_data"
    }
   ],
   "source": [
    "import scipy.stats as stat\n",
    "import matplotlib.pyplot as plt\n",
    "import numpy as np\n",
    "\n",
    "df = 10\n",
    "\n",
    "x= np.linspace(0, 30, 100)\n",
    "\n",
    "y = stat.chi2.pdf(x, df)\n",
    "\n",
    "x_shade = np.linspace(15, 30, 100)\n",
    "y_shade = stat.chi2.pdf(x_shade, df)\n",
    "\n",
    "plt.plot(x , y)\n",
    "plt.fill_between(x_shade , y_shade, color = 'y')\n",
    "plt.xlabel('Chi-square statistic')\n",
    "plt.ylabel('Probability density')\n",
    "plt.title('Chi-square distribution with 10 degrees of freedom')\n",
    "plt.show()\n"
   ]
  },
  {
   "cell_type": "markdown",
   "id": "10ef3d62-b5ec-4346-a24c-ed2cd262e7d5",
   "metadata": {},
   "source": [
    "## A random sample of 1000 people was asked if they preferred Coke or Pepsi. Of the sample, 520 preferred Coke. Calculate a 99% confidence interval for the true proportion of people in the population who prefer Coke."
   ]
  },
  {
   "cell_type": "code",
   "execution_count": null,
   "id": "d6b1e095-721d-419c-aa57-1eed928a42be",
   "metadata": {},
   "outputs": [
    {
     "name": "stdout",
     "output_type": "stream",
     "text": [
      "95% confidence interval for the true proportion of people in the population who prefer Coke.: (479.2393, 560.7607)\n"
     ]
    }
   ],
   "source": [
    "import math\n",
    "# sample proportion\n",
    "p = 520/1000\n",
    "\n",
    "# z-score for 99% confidence level\n",
    "z = 2.58\n",
    "\n",
    "# sample size\n",
    "n = 1000\n",
    "\n",
    "# calculate standard error\n",
    "standard_error = math.sqrt(p*(1-p)/n)\n",
    "\n",
    "\n",
    "# calculate margin of error\n",
    "margin_error = z * standard_error\n",
    "\n",
    "# calculate lower and upper bounds of the confidence interval\n",
    "lower = (p - margin_error)*n\n",
    "upper = (p + margin_error)*n\n",
    "\n",
    "# print the results\n",
    "print(\"95% confidence interval for the true proportion of people in the population who prefer Coke.: ({:.4f}, {:.4f})\".format(lower, upper))"
   ]
  },
  {
   "cell_type": "markdown",
   "id": "4105f768-af8f-47ab-94d7-6d62b2c4f10d",
   "metadata": {},
   "source": [
    "## A researcher hypothesizes that a coin is biased towards tails. They flip the coin 100 times and observe 45 tails. Conduct a chi-square goodness of fit test to determine if the observed frequencies match the expected frequencies of a fair coin. Use a significance level of 0.05."
   ]
  },
  {
   "cell_type": "code",
   "execution_count": 72,
   "id": "cf67f1bf-c1a0-4e84-b1d9-ab172fee31d2",
   "metadata": {},
   "outputs": [
    {
     "name": "stdout",
     "output_type": "stream",
     "text": [
      "Fail to reject the null hypothesis,  we do not have sufficient evidence to conclude that the observed frequencies deviate significantly from the expected frequencies of a fair coin.\n"
     ]
    }
   ],
   "source": [
    "import scipy.stats as stat\n",
    "# Null hypothesis: \n",
    "# The observed frequencies match the expected frequencies of a fair coin.\n",
    "\n",
    "# Alternate hypothesis:\n",
    "# The observed frequencies do not match the expected frequencies of a fair coin. \n",
    "\n",
    "observed = [45, 55] #for tail and head\n",
    "expected = [50, 50] # for a fair coin\n",
    "\n",
    "stat, p_val = stat.chisquare(observed, expected)\n",
    "\n",
    "alpha = 0.05\n",
    "\n",
    "if p_val < alpha:\n",
    "    print('Reject the null hypothesis, The observed frequencies  do not  match the expected frequencies of a fair coin.')\n",
    "else:\n",
    "    print('Fail to reject the null hypothesis,  we do not have sufficient evidence to conclude that the observed frequencies deviate significantly from the expected frequencies of a fair coin.')"
   ]
  },
  {
   "cell_type": "markdown",
   "id": "6265929a-7465-4672-a3d6-f368013527d4",
   "metadata": {},
   "source": [
    "## A study was conducted to determine if there is an association between smoking status (smoker or non-smoker) and lung cancer diagnosis (yes or no). The results are shown in the contingency table below. Conduct a chi-square test for independence to determine if there is a significant association between smoking status and lung cancer diagnosis. Use a significance level of 0.05.\n",
    "\n",
    "#### Contingency table for the group Lung Cancer: Yes and Lung Cancer: No = [[60, 140], [30, 170]]"
   ]
  },
  {
   "cell_type": "code",
   "execution_count": 87,
   "id": "822359c3-c5fa-420d-8866-83635d4336fe",
   "metadata": {},
   "outputs": [
    {
     "name": "stdout",
     "output_type": "stream",
     "text": [
      "Reject the null hypothesis, There is a significant association between smoking status and lung cancer diagnosis.\n",
      "p-value: 0.0005\n"
     ]
    }
   ],
   "source": [
    "import scipy.stats as stat\n",
    "\n",
    "# NULL Hypothesis:\n",
    "## There is not a significant association between smoking status and lung cancer diagnosis. \n",
    "\n",
    "# Alternate Hypothesis :\n",
    "## There is a significant association between smoking status and lung cancer diagnosis.\n",
    "\n",
    "\n",
    "alpha = 0.05\n",
    "obs = [[60, 140], [30, 170]]\n",
    "stat, p_val , dof, expected = stat.chi2_contingency(obs)\n",
    "\n",
    "if p_val < alpha:\n",
    "    print('Reject the null hypothesis, There is a significant association between smoking status and lung cancer diagnosis.')\n",
    "else:\n",
    "    ('Fail to reject the null hypothesis, There is not a significant association between smoking status and lung cancer diagnosis.')\n",
    "print(f'p-value: {p_val:.4f}')"
   ]
  },
  {
   "cell_type": "markdown",
   "id": "34d472ce-dcea-4d9d-949a-67cd24688c6a",
   "metadata": {},
   "source": [
    "## A study was conducted to determine if the proportion of people who prefer milk chocolate, dark chocolate, or white chocolate is different in the U.S. versus the U.K. A random sample of 500 people from the U.S. and a random sample of 500 people from the U.K. were surveyed. The results are shown in the contingency table below. Conduct a chi-square test for independence to determine if there is a significant association between chocolate preference and country of origin. Use a significance level of 0.01.\n",
    "\n",
    "#### the contingency table data = [[200,150,150],[225,175,100]]"
   ]
  },
  {
   "cell_type": "code",
   "execution_count": 89,
   "id": "13106081-24c7-4b94-b828-45e1da74c39d",
   "metadata": {},
   "outputs": [
    {
     "name": "stdout",
     "output_type": "stream",
     "text": [
      "Reject the null hypothesis, There is a significant association between chocolate preference and country of origin.\n",
      "p-value: 0.0012\n"
     ]
    }
   ],
   "source": [
    "import scipy.stats as stat\n",
    "\n",
    "# NULL Hypothesis:\n",
    "## There is not a significant association between chocolate preference and country of origin. \n",
    "\n",
    "# Alternate Hypothesis :\n",
    "## There is a significant association between chocolate preference and country of origin.\n",
    "\n",
    "\n",
    "alpha = 0.01\n",
    "obs = [[200,150,150],[225,175,100]]\n",
    "stat, p_val , dof, expected = stat.chi2_contingency(obs)\n",
    "\n",
    "if p_val < alpha:\n",
    "    print('Reject the null hypothesis, There is a significant association between chocolate preference and country of origin.')\n",
    "else:\n",
    "    ('Fail to reject the null hypothesis, There is not a significant association between chocolate preference and country of origin.')\n",
    "print(f'p-value: {p_val:.4f}')"
   ]
  },
  {
   "cell_type": "markdown",
   "id": "f29737a0-331a-4fef-8409-270396c947c3",
   "metadata": {},
   "source": [
    "## A random sample of 30 people was selected from a population with an unknown mean and standard deviation. The sample mean was found to be 72 and the sample standard deviation was found to be 10. Conduct a hypothesis test to determine if the population mean is significantly different from 70. Use a significance level of 0.05."
   ]
  },
  {
   "cell_type": "code",
   "execution_count": 98,
   "id": "065e7e8b-ab5e-4202-b169-4aa1f662a884",
   "metadata": {},
   "outputs": [
    {
     "name": "stdout",
     "output_type": "stream",
     "text": [
      "Fail to reject the null hypothesis, The population mean is not significantly different from 70.\n"
     ]
    }
   ],
   "source": [
    "import scipy.stats as stat\n",
    "import numpy as np\n",
    "\n",
    "# Null hypothesis: \n",
    "## The population mean is not significantly different from 70.\n",
    "\n",
    "#  Alternate hypothesis(Ha)\n",
    "## The population mean is significantly different from 70.\n",
    "\n",
    "n= 30\n",
    "pop_mean = 70\n",
    "samp_mean = 72\n",
    "std = 10\n",
    "alpha = 0.05\n",
    "\n",
    "sample = np.random.normal(samp_mean, std, n)\n",
    "\n",
    "t_stat, p_val = stat.ttest_1samp(sample, pop_mean)\n",
    "\n",
    "t_critical = abs(stat.t.ppf(alpha/2 , n-1))\n",
    "\n",
    "if t_stat < t_critical:\n",
    "    print('Fail to reject the null hypothesis, The population mean is not significantly different from 70.')\n",
    "else:\n",
    "    print('Reject the null hypothesis, The population mean is significantly different from 70.')\n",
    "    "
   ]
  }
 ],
 "metadata": {
  "kernelspec": {
   "display_name": "Python 3 (ipykernel)",
   "language": "python",
   "name": "python3"
  },
  "language_info": {
   "codemirror_mode": {
    "name": "ipython",
    "version": 3
   },
   "file_extension": ".py",
   "mimetype": "text/x-python",
   "name": "python",
   "nbconvert_exporter": "python",
   "pygments_lexer": "ipython3",
   "version": "3.10.8"
  }
 },
 "nbformat": 4,
 "nbformat_minor": 5
}
