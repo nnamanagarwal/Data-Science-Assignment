{
 "cells": [
  {
   "cell_type": "markdown",
   "id": "41211ec9-c4f8-4d29-96e0-c7ae2f55c6b4",
   "metadata": {},
   "source": [
    "### Q1: What are the Probability Mass Function (PMF) and Probability Density Function (PDF)? Explain with an example."
   ]
  },
  {
   "cell_type": "markdown",
   "id": "5398c82a-6acc-4e55-ba7d-266e518dd4ec",
   "metadata": {},
   "source": [
    "Probability Mass Function PMF is used for discrete random variables, meaning variables that can only take on specific, finite values. The PMF gives the probability that a discrete random variable takes on a certain value. The sum of all the probabilities in the PMF is 1.\n",
    "\n",
    "- For example, consider the case of rolling a fair six-sided die. The PMF for this scenario can be written as:\n",
    "value on die = {1,2,3,4,5,6}\n",
    "\n",
    "pmf = {1/6 , 1/6 , 1/6, 1/6, 1/6, 1/6}\n",
    "\n",
    "Probability Mass Function PDF, on the other hand, is used for continuous random variables, meaning variables that can take on any value within a certain range or interval. The PDF gives the probability density function of a continuous random variable at any given point within its range.\n",
    "\n",
    "- For example of a continuous random variable is height, which can take on any value within a certain range.\n",
    "f(x) = (1/σ√(2π)) * e^(-((x-μ)^2)/(2σ^2))\n",
    "\n",
    "where μ is mean and σ is std"
   ]
  },
  {
   "cell_type": "markdown",
   "id": "ffb76023-9715-4a39-8084-efde8d704020",
   "metadata": {},
   "source": [
    "### Q2: What is Cumulative Density Function (CDF)? Explain with an example. Why CDF is used?"
   ]
  },
  {
   "cell_type": "markdown",
   "id": "78037311-c181-4abd-a463-f5a8d19a1678",
   "metadata": {},
   "source": [
    "The Cumulative Density Function (CDF) is a statistical function that describes the probability of a random variable taking a value less than or equal to a given value.\n",
    "\n",
    "we have a random variable X that represents the score of a student in a math test(from 0 to 10), the pdf of X is:\n",
    "\n",
    "X = {0, 1, 2, 3, 4, 5, 6, 7, 8, 9, 10}\n",
    "\n",
    "f(X) = { 0.02, 0.05, 0.08, 0.1, 0.12, 0.15, 0.16, 0.1, 0.07, 0.03, 0.02}\n",
    "\n",
    "To find the CDF of X, we need to calculate the probability that X is less than or equal to a certain value of x\n",
    "\n",
    "eg. to find F(5), we need to add up the probabilities of getting a score of 0, 1, 2, 3, 4, or 5:\n",
    "\n",
    "F(5) = P(X ≤ 5) = f(0) + f(1) + f(2) + f(3) + f(4) + f(5)\n",
    "\n",
    "= 0.02 + 0.05 + 0.08 + 0.1 + 0.12 + 0.15\n",
    "\n",
    "= 0.52\n",
    "\n",
    "So, if we want to plot CDF, the resulting CDF of X would look like this:\n",
    "\n",
    "X = {0, 1, 2, 3, 4, 5, 6, 7, 8, 9, 10}\n",
    "\n",
    "F(X) = {0.02, 0.07, 0.15, 0.25, 0.37, 0.52, 0.68, 0.78, 0.85, 0.88, 0.9 }\n",
    "\n",
    "Utilization: The value of F(x) at any point x represents the probability that the student will get a score less than or equal to x. For example, F(5) = 0.52 means that there is a 52% chance that the student will get a score of 5 or less in the test. Other than calculating percentage we can also use CDF in percentiles, estimaton and hypothesis testing."
   ]
  },
  {
   "cell_type": "markdown",
   "id": "9c867c40-d1e6-4ee6-87fc-537b1fb58cc8",
   "metadata": {},
   "source": [
    "### Q3: What are some examples of situations where the normal distribution might be used as a model? "
   ]
  },
  {
   "cell_type": "markdown",
   "id": "fed94d8d-7e22-4c04-921d-2eb43d122d36",
   "metadata": {},
   "source": [
    "The normal distribution is a commonly used probability distribution in statistics due to its many useful properties. Some examples of situations where the normal distribution might be used as a model are:\n",
    "\n",
    "- Heights and weights\n",
    "- IQ scores\n",
    "- Error terms in regression analysis\n",
    "- Stock prices\n",
    "- Quality control\n",
    "- Natural phenomena\n",
    "\n",
    "The normal distribution is a continuous probability distribution that is characterized by two parameters, mean (μ) and standard deviation (σ).\n",
    "\n",
    "- The mean of the normal distribution determines the location of the center of the distribution, and is also the value where the distribution is symmetric.\n",
    "- If the mean is shifted to the right, the entire distribution will shift to the right. If the mean is shifted to the left, the entire distribution will shift to the left.\n",
    "- The standard deviation of the normal distribution determines the width of the distribution.\n",
    "- If the standard deviation is large, the distribution will be more spread out, and if it is small, the distribution will be more compact.\n",
    "- A smaller standard deviation results in a taller, more narrow peak, while a larger standard deviation results in a shorter, flatter peak.\n",
    "- Together, the mean and standard deviation determine the shape of the normal distribution, and their values can be used to make predictions about the likelihood of events occurring within the distribution."
   ]
  },
  {
   "cell_type": "markdown",
   "id": "e3bf94e9-0ba2-4451-865e-b64a266a2aa2",
   "metadata": {},
   "source": [
    "### Q4: Explain the importance of Normal Distribution. Give a few real-life examples of Normal Distribution. "
   ]
  },
  {
   "cell_type": "markdown",
   "id": "d73be9af-bd4e-4da4-bfa2-accdaefbed7a",
   "metadata": {},
   "source": [
    "The normal distribution, is one of the most important probability distributions in statistics due to its many useful properties.\n",
    "\n",
    "- It is a well-understood distribution\n",
    "- It is a convenient model for many natural phenomena (height, weight)\n",
    "- It has a simple mathematical form\n",
    "- It is symmetric, unimodal, and bell-shaped\n",
    "\n",
    "The normal distribution is a commonly used probability distribution in statistics due to its many useful properties. Some examples of situations where the normal distribution might be used as a model are:\n",
    "\n",
    "- Heights and weights\n",
    "- IQ scores\n",
    "- Stock prices\n",
    "- Quality control\n",
    "- Blood Pressure\n",
    "- Test Scores"
   ]
  },
  {
   "cell_type": "markdown",
   "id": "ac0016ae-fed8-4526-8335-8213fcff4948",
   "metadata": {},
   "source": [
    "### Q5: What is Bernaulli Distribution? Give an Example. What is the difference between Bernoulli Distribution and Binomial Distribution?"
   ]
  },
  {
   "cell_type": "markdown",
   "id": "c3e33881-4f7e-4d58-ae29-6ff05165309d",
   "metadata": {},
   "source": [
    "The Bernoulli distribution is a probability distribution that models a single trial of a binary experiment, where the outcome can either be success or failure.\n",
    "\n",
    "The Bernoulli distribution is characterized by a single parameter p, which represents the probability of success in a single trial. The probability of failure in a single trial is therefore 1 - p. The probability mass function of the Bernoulli distribution is given by:\n",
    "\n",
    "P(X = 1) = p\n",
    "\n",
    "P(X = 0) = 1 - p\n",
    "\n",
    "Example\n",
    "\n",
    "A situation that can be modeled using the Bernoulli distribution is whether a customer buys a product after seeing an advertisement. If we define success as the customer buying the product and failure as the customer not buying the product, then the probability of success depends on the effectiveness of the advertisement, and can be modeled using the Bernoulli distribution with a probability parameter p.\n",
    "\n",
    "Difference between Bernoulli Distribution and Binomial Distribution are:\n",
    "\n",
    "- Number of Trials: The Bernoulli distribution models a single trial, while the binomial distribution models a series of independent, identical trials.\n",
    "\n",
    "- Parameterization: The Bernoulli distribution has a single parameter p, which represents the probability of success in a single trial. The binomial distribution has two parameters: n, which represents the number of trials, and p, which represents the probability of success in each trial.\n",
    "\n",
    "- Probability Mass Function: PMF of the Bernoulli distribution is given by P(X=1) = p and P(X=0) = 1-p. The PMF of the binomial distribution is given by P(X=k) = (n choose k) * p^k * (1-p)^(n-k), where X is the random variable representing the number of successes in n independent, identical trials.\n",
    "\n",
    "- Mean and Variance: The mean of the Bernoulli distribution is p, and the variance is p(1-p). The mean of the binomial distribution is np, and the variance is np(1-p).\n",
    "\n",
    "The Bernoulli distribution is a special case of the binomial distribution where n=1. It models a single trial of a binary experiment, while the binomial distribution models a series of independent, identical trials with a fixed probability of success."
   ]
  },
  {
   "cell_type": "markdown",
   "id": "73ee323a-ced8-4f04-b66a-5a1a52523f1c",
   "metadata": {},
   "source": [
    "### Q6. Consider a dataset with a mean of 50 and a standard deviation of 10. If we assume that the dataset is normally distributed, what is the probability that a randomly selected observation will be greater than 60? Use the appropriate formula and show your calculations."
   ]
  },
  {
   "cell_type": "markdown",
   "id": "71544d57-405e-4545-ae33-e838a054ecc4",
   "metadata": {},
   "source": [
    "Using the z-score formula to standardize the value 60 and then use a standard normal distribution table to find the probability that a z-score is greater than or equal to the standardized value.\n",
    "\n",
    "The z-score formula is:\n",
    "\n",
    "z = (x - μ) / σ\n",
    "\n",
    "where x is the value of interest (60), μ is the mean (50), and σ is the standard deviation (10).\n",
    "\n",
    "Substituting the values, we get:\n",
    "\n",
    "z = (60 - 50) / 10\n",
    "z = 1\n",
    "\n",
    "This means that the value of 60 is one standard deviation above the mean.\n",
    "\n",
    "Using a standard normal distribution table, we can look up the area to the right of z = 1, which is 0.1587. Therefore, the probability that a randomly selected observation from a normal distribution with a mean of 50 and a standard deviation of 10 will be greater than 60 is approximately 0.1587, or 15.87% (rounded to two decimal places)."
   ]
  },
  {
   "cell_type": "markdown",
   "id": "815b048d-b72f-4497-8825-7121b12170b7",
   "metadata": {},
   "source": [
    "### Q7: Explain uniform Distribution with an example."
   ]
  },
  {
   "cell_type": "markdown",
   "id": "66b437ca-4bfb-4a95-9050-722018ce78b8",
   "metadata": {},
   "source": [
    "The uniform distribution is a probability distribution that models the probability of a continuous random variable taking on any value within a specific range, where each value within that range is equally likely to occur. This means that the probability density function (PDF) of the uniform distribution is constant within the range and zero outside the range.\n",
    "\n",
    "The PDF of the uniform distribution is given by:\n",
    "\n",
    "f(x) = 1 / (b - a) if a <= x <= b\n",
    "\n",
    "f(x) = 0 otherwise\n",
    "\n",
    "where a and b are the lower and upper bounds of the range.\n",
    "\n",
    "Example: The time it takes for a traffic light to turn green. If we assume that the time it takes for the traffic light to turn green is equally likely to be any value between 10 and 20 seconds, we can model this situation using the uniform distribution with a = 10 and b = 20."
   ]
  },
  {
   "cell_type": "markdown",
   "id": "7913cd48-61ae-44f4-a789-20974dfc5064",
   "metadata": {},
   "source": [
    "### Q8: What is the z score? State the importance of the z score."
   ]
  },
  {
   "cell_type": "markdown",
   "id": "e63b6b49-e18c-409b-afe5-64c216d34b2b",
   "metadata": {},
   "source": [
    "A z-score, also known as a standard score, is a measure of how many standard deviations a data point is from the mean of its distribution.\n",
    "\n",
    "The formula for calculating the z-score for a data point x in a distribution with mean μ and standard deviation σ is:\n",
    "\n",
    "z = (x - μ) / σ\n",
    "\n",
    "The importance of the z-score lies in its ability to standardize data and make it easier to interpret and compare. By converting data to z-scores, we can easily identify extreme values, calculate probabilities, and compare different datasets. Additionally, the z-score is used in hypothesis testing and statistical inference, as it allows us to calculate the probability of obtaining a particular value or set of values given the distribution of the data."
   ]
  },
  {
   "cell_type": "markdown",
   "id": "b94435ed-42e4-4a58-bfc3-db1008cd41c1",
   "metadata": {},
   "source": [
    "### Q9: What is Central Limit Theorem? State the significance of the Central Limit Theorem."
   ]
  },
  {
   "cell_type": "markdown",
   "id": "27dd8e28-2c15-4030-8abc-17c113d09eb2",
   "metadata": {},
   "source": [
    "Central limit theorem says that the sampling distributed of the mean will always be normally distributed, regardless of the populaton has a normal, poisson, binomial or any distribution.\n",
    "\n",
    "As the sample size increases, the distribution of the sample mean approaches a normal distribution with\n",
    "\n",
    "mean = μ and\n",
    "standard deviation = σ/sqrt(n),\n",
    "where μ is the population mean, σ is the population standard deviation, and n is the sample size.\n",
    "\n",
    "The significance of the Central Limit Theorem is that it provides a powerful tool for statistical inference and hypothesis testing. It allows us to use the normal distribution to make inferences about a population, even when the population distribution is not known. This is because the CLT implies that the sample mean will be normally distributed even if the underlying population distribution is not normal, provided that the sample size is sufficiently large. The CLT is used extensively in hypothesis testing, confidence interval estimation, and parameter estimation."
   ]
  },
  {
   "cell_type": "markdown",
   "id": "84a8d506-a769-4917-a6dd-dd2f1de88cd6",
   "metadata": {},
   "source": [
    "### Q10: State the assumptions of the Central Limit Theorem."
   ]
  },
  {
   "cell_type": "markdown",
   "id": "fea97ad3-6874-4f85-9a50-dbb7fca52765",
   "metadata": {},
   "source": [
    "The Central Limit Theorem (CLT) is based on some important assumptions that must be satisfied for the theorem to hold. These assumptions are:\n",
    "\n",
    "Independence: The sample observations must be independent of each other.\n",
    "\n",
    "Sample size: The sample size must be sufficiently large. As a general rule, a sample size of 30 or more is considered large enough for the CLT to hold.\n",
    "\n",
    "Population distribution: The population from which the sample is drawn may have any distribution, but it should have a finite mean and a finite variance.\n",
    "\n",
    "Random sampling: The sample should be drawn at random from the population, so that every member of the population has an equal chance of being selected."
   ]
  },
  {
   "cell_type": "code",
   "execution_count": null,
   "id": "bb300c65-4ad9-4941-a78d-a29b3f3a2cc4",
   "metadata": {},
   "outputs": [],
   "source": []
  }
 ],
 "metadata": {
  "kernelspec": {
   "display_name": "Python 3 (ipykernel)",
   "language": "python",
   "name": "python3"
  },
  "language_info": {
   "codemirror_mode": {
    "name": "ipython",
    "version": 3
   },
   "file_extension": ".py",
   "mimetype": "text/x-python",
   "name": "python",
   "nbconvert_exporter": "python",
   "pygments_lexer": "ipython3",
   "version": "3.10.8"
  }
 },
 "nbformat": 4,
 "nbformat_minor": 5
}
