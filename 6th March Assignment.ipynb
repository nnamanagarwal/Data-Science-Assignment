{
 "cells": [
  {
   "cell_type": "markdown",
   "id": "31cffe9e-fbae-43d7-97d0-a16e6970a9b5",
   "metadata": {},
   "source": [
    "### Q1. What is Statistics?"
   ]
  },
  {
   "cell_type": "markdown",
   "id": "263e5874-b761-4c04-9d05-92b48205d25b",
   "metadata": {},
   "source": [
    "Statistics is a branch of mathematics that deals with the collection, analysis, interpretation, presentation, and organization of data. It involves using quantitative methods to extract meaningful insights and knowledge from data, and to make informed decisions based on that information."
   ]
  },
  {
   "cell_type": "markdown",
   "id": "9be908c8-d2d3-4f24-ad7b-795c8d56bc01",
   "metadata": {},
   "source": [
    "### Q2. Define the different types of statistics and give an example of when each type might be used."
   ]
  },
  {
   "cell_type": "markdown",
   "id": "aa30824e-c356-401b-b791-bc42a6c0c567",
   "metadata": {},
   "source": [
    "There are two main types of statistics: descriptive statistics and inferential statistics.\n",
    "\n",
    "1. Descriptive Statistics: Descriptive statistics refers to the methods and techniques used to summarize and describe the characteristics of a data set. Some of its eg.s are mean, median, and mode, measures of dispersion such as variance and standard deviation, and graphical representations such as histograms and box plots.\n",
    "Example :\n",
    "\n",
    "A company wants to know the average age of its employees, so it collects data on the ages of all its employees and calculates the mean age, which is a measure of central tendency.\n",
    "\n",
    "2. Inferential Statistics: Inferential statistics involves using sample data to make inferences or predictions about a larger population. This type of statistics uses probability theory to make estimates, test hypotheses, and make predictions. Inferential statistics are often used in scientific research and business analysis.\n",
    "Example:\n",
    "\n",
    "A healthcare company wants to know if a new drug is effective in treating a certain condition. It conducts a randomized controlled trial in which half the patients receive the drug and half receive a placebo. By comparing the outcomes between the two groups, the company can infer whether the drug is effective for the larger population of patients with the condition."
   ]
  },
  {
   "cell_type": "markdown",
   "id": "67c4b1f7-db25-4a69-bdc1-ce27b50cd97d",
   "metadata": {},
   "source": [
    "### Q3. What are the different types of data and how do they differ from each other? Provide an example of each type of data."
   ]
  },
  {
   "cell_type": "markdown",
   "id": "badd48f0-a6c9-4946-a158-595cfd7f2494",
   "metadata": {},
   "source": [
    "There are 2 main types of data: Qualitative and Quantitative.\n",
    "\n",
    "1. Qualitative data: This type of data describes qualities or characteristics and cannot be expressed numerically. Examples include hair color (blonde, brown, black), eye color (blue, green, brown), or favorite color (red, blue, green). These are further divided into 2 data types, ordenal and nomianl\n",
    "   \n",
    "   (a). Nominal data: This type of data consists of categories that cannot be ordered or ranked. Examples include gender (male, female), race (Caucasian, African American, Asian, etc.), or marital status (single, married, divorced, etc.).\n",
    "\n",
    "   (b). Ordinal data: This type of data consists of categories that can be ordered or ranked. Examples include education level (high school, college, graduate degree), income level (low, medium, high), or rating scales (poor, fair, good, excellent).\n",
    "\n",
    "2. Quantitative data: This type of data describes numerical measurements or quantities. Examples include age (in years), weight (in pounds or kilograms), height (in inches or centimeters), or income (in dollars).\n",
    "   \n",
    "   (a). Discrete data: This type of data is finite and countable. Examples include number of children in a family, number of pets in a household, or number of cars owned by a person.\n",
    "\n",
    "   (b). Continuous data: This type of data is measured on a continuous scale and can take on any value within a certain range. Examples include height, weight, temperature, or time.\n",
    "\n",
    "The key difference between these types of data is the level of measurement and the properties of the data. Nominal and ordinal data are both categorical data, but ordinal data has a meaningful order while nominal data does not. Discrete and Continuous data are both numerical data, but discrete has a specific range, which continuous data doesn't have."
   ]
  },
  {
   "cell_type": "markdown",
   "id": "5aa923e3-ab1c-470c-864d-a28aee111f3f",
   "metadata": {},
   "source": [
    "### Q4. Categorise the following datasets with respect to quantitative and qualitative data types:"
   ]
  },
  {
   "cell_type": "markdown",
   "id": "43696376-2bbf-49f2-a36a-ecdeb721880e",
   "metadata": {},
   "source": [
    "#### (i) Grading in exam: A+, A, B+, B, C+, C, D, E"
   ]
  },
  {
   "cell_type": "markdown",
   "id": "4f9d190d-6c95-4acb-bf4c-0c38aea3282c",
   "metadata": {},
   "source": [
    "Qualitative (Ordinal Type)"
   ]
  },
  {
   "cell_type": "markdown",
   "id": "de9aba26-a67b-4611-b15d-212645b25e79",
   "metadata": {},
   "source": [
    "#### (ii) Colour of mangoes: yellow, green, orange, red"
   ]
  },
  {
   "cell_type": "markdown",
   "id": "fc94a9d8-b5a6-4e7f-8f1c-2000257b3b19",
   "metadata": {},
   "source": [
    "Qualitative (Nominal Type)"
   ]
  },
  {
   "cell_type": "markdown",
   "id": "aba17888-960a-45a9-b923-47f0a3bb77eb",
   "metadata": {},
   "source": [
    "#### (iii) Height data of a class: [178.9, 179, 179.5, 176, 177.2, 178.3, 175.8,...]"
   ]
  },
  {
   "cell_type": "markdown",
   "id": "3e302b48-fbb8-4fbe-93d9-9f5c1dc01683",
   "metadata": {},
   "source": [
    "Quantitative (Continuous Type)"
   ]
  },
  {
   "cell_type": "markdown",
   "id": "45f69a3e-ce8a-4edc-9c3e-f99eb4f1a2bd",
   "metadata": {},
   "source": [
    "#### (iv) Number of mangoes exported by a farm: [500, 600, 478, 672, ...]"
   ]
  },
  {
   "cell_type": "markdown",
   "id": "c30cf6e8-e861-4718-8eb9-d0fa556c9832",
   "metadata": {},
   "source": [
    "Quantitative (Discreate Type)"
   ]
  },
  {
   "cell_type": "markdown",
   "id": "53ff2895-75b8-4210-941a-384f2ef645fd",
   "metadata": {},
   "source": [
    "### Q5. Explain the concept of levels of measurement and give an example of a variable for each level."
   ]
  },
  {
   "cell_type": "markdown",
   "id": "50be463a-b4fb-4097-b9fd-ad3b371dc0db",
   "metadata": {},
   "source": [
    "Levels of measurement refer to the different ways in which data can be classified and categorized based on their properties. There are four levels of measurement: nominal, ordinal, interval, and ratio.\n",
    "\n",
    "1. Nominal level: This is the lowest level of measurement where data are classified into categories or labels. Data at this level cannot be arranged in any meaningful order, and arithmetic operations cannot be performed on them. An example of a variable at this level is gender, where data can be classified as male or female.\n",
    "\n",
    "2. Ordinal level: Data at this level can be arranged in a meaningful order or ranking, but the intervals between the values are not uniform. Arithmetic operations cannot be performed on these data. An example of a variable at this level is educational level, where data can be classified as primary school, high school, undergraduate, and graduate.\n",
    "\n",
    "3. Interval level: At this level, the data are numerical, and the intervals between the values are uniform, but there is no true zero point. Therefore, ratios cannot be formed between the values. An example of a variable at this level is temperature measured in Celsius or Fahrenheit.\n",
    "\n",
    "4. Ratio level: This is the highest level of measurement, where the data are numerical, and the intervals between the values are uniform. Additionally, there is a true zero point, which allows for the formation of meaningful ratios between the values. An example of a variable at this level is weight or height, where zero weight or height indicates the absence of the characteristic being measured."
   ]
  },
  {
   "cell_type": "markdown",
   "id": "9213de58-2e87-485f-a938-b54041f13f7a",
   "metadata": {},
   "source": [
    "### Q6. Why is it important to understand the level of measurement when analyzing data? Provide an example to illustrate your answer."
   ]
  },
  {
   "cell_type": "markdown",
   "id": "4313d43e-7e66-4c49-a48a-26300a5cb163",
   "metadata": {},
   "source": [
    "Understanding the level of measurement is important when analyzing data because it determines the types of statistical analyses that can be performed on the data. Each level of measurement has different properties and requires different statistical tools. For example, nominal data cannot be ranked or ordered, so measures of central tendency such as the mean or median are not applicable. Instead, frequencies and percentages are used to describe the data. On the other hand, interval or ratio data can be ranked and ordered, so measures of central tendency such as the mean or median can be calculated.\n",
    "\n",
    "Consider an example of a study that collects data on the type of transportation used by employees to commute to work. The data is collected as nominal data where the categories are \"car\", \"bus\", \"train\", and \"walk\". If the researcher is interested in describing the most common mode of transportation used by the employees, they would need to use frequency counts and percentages since measures of central tendency are not appropriate for nominal data. However, if the researcher is interested in comparing the commuting times between different modes of transportation, they would need to use measures of central tendency such as the mean or median, which are appropriate for interval or ratio data. Thus, understanding the level of measurement is important in determining the appropriate statistical tools to use for a given analysis."
   ]
  },
  {
   "cell_type": "markdown",
   "id": "82d93953-47ea-4497-ae44-55fe69602c6b",
   "metadata": {},
   "source": [
    "### Q7. How nominal data type is different from ordinal data type."
   ]
  },
  {
   "cell_type": "markdown",
   "id": "d9099dea-a36f-4347-bf38-f677473c2fe1",
   "metadata": {},
   "source": [
    "Nominal and ordinal data are both categorical data, but ordinal data has a meaningful order while nominal data does not."
   ]
  },
  {
   "cell_type": "markdown",
   "id": "a767238b-e732-41cf-a693-cbce59ef5e04",
   "metadata": {},
   "source": [
    "### Q8. Which type of plot can be used to display data in terms of range?"
   ]
  },
  {
   "cell_type": "markdown",
   "id": "9b87e224-e1e4-4d67-9c27-527050da75b8",
   "metadata": {},
   "source": [
    "A box plot can be used to display data in terms of range."
   ]
  },
  {
   "cell_type": "markdown",
   "id": "92175b01-df22-4876-beff-bb3fa191b18d",
   "metadata": {},
   "source": [
    "### Q9. Describe the difference between descriptive and inferential statistics. Give an example of each type of statistics and explain how they are used."
   ]
  },
  {
   "cell_type": "markdown",
   "id": "734ff050-485e-4886-8bfd-4a8994c426e7",
   "metadata": {},
   "source": [
    "Descriptive statistics and inferential statistics are two branches of statistics that are used to analyze and interpret data.\n",
    "\n",
    "Descriptive statistics  is concerned with summarizing and describing the characteristics of a sample or population. It is used to present and analyze data in a meaningful way, such as measures of central tendency (e.g. mean, median, mode) and measures of variability (e.g. standard deviation, range). Descriptive statistics provide an overview of the data and are useful in making comparisons between different sets of data. For example, the average age of students in a classroom, the number of customers in a store per day, or the distribution of test scores in a class.\n",
    "\n",
    "Inferential statistics, on the other hand, is concerned with making generalizations about a population based on a sample of data. It uses probability theory to draw conclusions about the population based on the characteristics of the sample. Inferential statistics are used to test hypotheses and make predictions about a population based on a sample. For example, determining whether a new drug is effective based on a clinical trial, or predicting the outcome of an election based on a survey.\n",
    "\n",
    "An example of descriptive statistics would be calculating the mean and standard deviation of the weights of a sample of apples in a fruit farm. This would provide an overview of the sample and help in understanding the central tendency and variability of the weights.\n",
    "\n",
    "An example of inferential statistics would be using a random sample of customers to estimate the average monthly spending of all customers in a store. This would involve using statistical methods to make predictions and draw conclusions about the population based on the characteristics of the sample."
   ]
  },
  {
   "cell_type": "markdown",
   "id": "f17435b7-5a0a-4c79-aac5-21602fa3e2fa",
   "metadata": {},
   "source": [
    "### Q10. What are some common measures of central tendency and variability used in statistics? Explain how each measure can be used to describe a dataset."
   ]
  },
  {
   "cell_type": "markdown",
   "id": "a2d33b74-6fcb-46d1-848e-926e8114e82a",
   "metadata": {},
   "source": [
    "Measures of central tendency and variability are commonly used in statistics to describe and summarize a dataset.\n",
    "\n",
    "Measures of central tendency refer to the middle or typical value of a dataset. The most commonly used measures of central tendency are:\n",
    "\n",
    "1. Mean: The arithmetic mean is the sum of all values in the dataset divided by the number of observations. It is used to describe the average value of the dataset. For example, the mean salary of a group of employees.\n",
    "\n",
    "2. Median: The median is the middle value in a dataset. It is used when the dataset is skewed or has outliers. For example, the median income of a group of households.\n",
    "\n",
    "3. Mode: The mode is the value that appears most frequently in a dataset. It is used when the dataset is discrete or categorical. For example, the mode of favorite color in a group of people.\n",
    "\n",
    "Measures of variability refer to the spread or dispersion of values in a dataset. The most commonly used measures of variability are:\n",
    "\n",
    "1. Range: The range is the difference between the largest and smallest value in a dataset. It is used to describe the spread of the dataset. For example, the range of temperatures in a day.\n",
    "\n",
    "2. Variance: The variance is the average of the squared differences of each value from the mean. It is used to describe the variability of the dataset. For example, the variance of test scores in a class.\n",
    "\n",
    "3. Standard deviation: The standard deviation is the square root of the variance. It is used to describe the spread of the dataset in relation to the mean. For example, the standard deviation of age in a group of people.\n",
    "\n",
    "Each measure of central tendency and variability provides different information about the dataset and can be used to understand the characteristics of the data."
   ]
  },
  {
   "cell_type": "code",
   "execution_count": null,
   "id": "fc1d58d1-060c-4efc-b2c7-337eba8b2783",
   "metadata": {},
   "outputs": [],
   "source": []
  }
 ],
 "metadata": {
  "kernelspec": {
   "display_name": "Python 3 (ipykernel)",
   "language": "python",
   "name": "python3"
  },
  "language_info": {
   "codemirror_mode": {
    "name": "ipython",
    "version": 3
   },
   "file_extension": ".py",
   "mimetype": "text/x-python",
   "name": "python",
   "nbconvert_exporter": "python",
   "pygments_lexer": "ipython3",
   "version": "3.10.8"
  }
 },
 "nbformat": 4,
 "nbformat_minor": 5
}
