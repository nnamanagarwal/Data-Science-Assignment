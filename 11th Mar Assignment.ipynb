{
 "cells": [
  {
   "cell_type": "markdown",
   "id": "6c3ac549-f161-4436-92dc-4f66feac8c93",
   "metadata": {},
   "source": [
    "## What is the difference between a t-test and a z-test? Provide an example scenario where you would use each type of test."
   ]
  },
  {
   "cell_type": "markdown",
   "id": "7018b245-9c69-4c3c-a6c8-866a00a06e09",
   "metadata": {},
   "source": [
    "Both t-test and z-test are statistical hypothesis tests used to make inferences about population parameters from sample statistics. However, there are some fundamental differences between the two:\n",
    "\n",
    "* The z-test is used when the sample size is large (typically, n > 30) or when the population standard deviation is known, whereas the t-test is used when the sample size is small (typically, n < 30) or when the population standard deviation is unknown.\n",
    "\n",
    "* The z-test assumes that the population variance is known, whereas the t-test assumes that the population variance is unknown.\n",
    "\n",
    "* The z-test is used to test hypotheses about population means when the population standard deviation is known, whereas the t-test is used to test hypotheses about population means when the population standard deviation is unknown.\n",
    "\n",
    "* The t-test is generally considered more robust and reliable than the z-test because it makes fewer assumptions about the population parameters and is more appropriate for smaller sample sizes.\n",
    "\n",
    "Example:\n",
    "\n",
    "* t-test\n",
    "\n",
    "Suppose we want to compare the mean height of two groups of students, one group from a private school and the other from a public school.\n",
    "We collect a sample of 20 students from each school and measure their heights\n",
    "We can use a t-test to determine if there is a significant difference between the mean heights of the two groups.\n",
    "\n",
    "* z-test\n",
    "\n",
    "Suppose we want to compare the mean weight of a population to a known value\n",
    "We collect a large sample of 1000 individuals and measure their weight\n",
    "We can use a z-test to determine if the mean weight of the population is significantly different from the known value.\n"
   ]
  },
  {
   "cell_type": "markdown",
   "id": "79dd3443-92cf-4dcf-9eac-01191ffdd2dc",
   "metadata": {},
   "source": [
    "## Differentiate between one-tailed and two-tailed tests."
   ]
  },
  {
   "cell_type": "markdown",
   "id": "f8c28f55-cece-4f98-9b05-b15b67915056",
   "metadata": {},
   "source": [
    "The test can be either a one-tailed test or a two-tailed test, depending on the directionality of the hypothesis.\n",
    "\n",
    "A one-tailed test is a hypothesis test where the alternative hypothesis is directional, meaning it specifies the direction of the difference between the sample statistic and the population parameter. For example, a one-tailed test may be used to test whether a new drug is more effective than the standard drug, or whether a new advertising campaign increases sales.\n",
    "\n",
    "A two-tailed test is a hypothesis test where the alternative hypothesis is non-directional, meaning it does not specify the direction of the difference between the sample statistic and the population parameter. Instead, it simply states that the sample statistic is significantly different from the population parameter. For example, a two-tailed test may be used to test whether a coin is biased or not.\n",
    "\n",
    "The critical region for a one-tailed test is located in one tail of the probability distribution, either the upper or lower tail, depending on the directionality of the hypothesis. The critical region for a two-tailed test is located in both tails of the probability distribution."
   ]
  },
  {
   "cell_type": "markdown",
   "id": "949aa51a-d01e-4c16-b4e6-4ce4d43cd090",
   "metadata": {},
   "source": [
    "## Explain the concept of Type 1 and Type 2 errors in hypothesis testing. Provide an example scenario for each type of error."
   ]
  },
  {
   "cell_type": "markdown",
   "id": "607a8767-4ebd-4398-8515-4409814e7f72",
   "metadata": {},
   "source": [
    "In statistical hypothesis testing, there are two types of errors that can occur: Type 1 error and Type 2 error.\n",
    "\n",
    "__Type 1 error__ occurs when we reject a null hypothesis that is actually true. In other words, we conclude that there is a significant difference between the sample statistic and the population parameter when in fact there is no difference.\n",
    "\n",
    "* Example of Type 1 Error:\n",
    "\n",
    "A pharmaceutical company is testing a new drug for treating a disease. The null hypothesis is that the new drug is not more effective than the existing drug. The alternative hypothesis is that the new drug is more effective than the existing drug. The company conducts a hypothesis test at a significance level of 0.05 and concludes that the new drug is more effective based on the sample data. However, in reality, the new drug is not more effective than the existing drug, and the company has made a Type 1 error.\n",
    "\n",
    "__Type 2 error__ occurs when we fail to reject a null hypothesis that is actually false. In other words, we conclude that there is no significant difference between the sample statistic and the population parameter when in fact there is a difference.\n",
    "\n",
    "* Example of Type 2 Error:\n",
    "\n",
    "A college admission office is using a standardized test to evaluate the intelligence of applicants. The null hypothesis is that the mean test score of the applicants is equal to the national mean. The alternative hypothesis is that the mean test score of the applicants is different from the national mean. The office conducts a hypothesis test but fails to reject the null hypothesis based on the sample data. However, in reality, the mean test score of the applicants is significantly different from the national mean, and the office has made a Type 2 error by failing to detect the difference.\n",
    "\n"
   ]
  },
  {
   "cell_type": "markdown",
   "id": "a6ebddf9-ce49-4d1d-ae33-3929f7606103",
   "metadata": {},
   "source": [
    "## Explain Bayes's theorem with an example."
   ]
  },
  {
   "cell_type": "markdown",
   "id": "263f4abc-4a49-4340-9584-cc0c838bbb1b",
   "metadata": {},
   "source": [
    "Bayes's theorem is a mathematical formula used in probability theory to update the probability of a hypothesis as new evidence becomes available. \n",
    "\n",
    "The theorem is expressed as P(A|B) = P(B|A) x P(A) / P(B), where P(A) and P(B) are the probabilities of A and B occurring, P(B|A) is the conditional probability of B given that A has occurred, and P(A|B) is the probability of A given that B has occurred.\n",
    "\n",
    "* Example \n",
    "\n",
    "Suppose a company has two machines, A and B, that produce widgets. Machine A produces 70% of the widgets and machine B produces 30% of the widgets. The widgets produced by machine A have a defect rate of 5%, while the widgets produced by machine B have a defect rate of 10%. If a widget is randomly selected from the production line and is found to be defective, what is the probability that it was produced by machine B?\n",
    "\n",
    "Using Bayes's theorem, we can calculate the probability that the defective widget was produced by machine B as follows:\n",
    "\n",
    "P(B|D) = P(D|B) x P(B) / P(D)\n",
    "\n",
    "where P(B) = 0.3, P(A) = 0.7, P(D|B) = 0.1, P(D|A) = 0.05, and P(D) = P(D|B) x P(B) + P(D|A) x P(A) = 0.1 x 0.3 + 0.05 x 0.7 = 0.065\n",
    "\n",
    "So, P(B|D) = 0.1 x 0.3 / 0.065 = 0.462 or approximately 46.2%. Therefore, there is a 46.2% chance that the defective widget was produced by machine B."
   ]
  },
  {
   "cell_type": "markdown",
   "id": "f6324b34-3448-4f09-b325-28689e2a62d5",
   "metadata": {},
   "source": [
    "## What is a confidence interval? How to calculate the confidence interval, explain with an example."
   ]
  },
  {
   "cell_type": "markdown",
   "id": "fc968373-3b77-4101-ac68-0831c788359e",
   "metadata": {},
   "source": [
    "A confidence interval is a range of values that is used to estimate the true value of a population parameter (such as the population mean or proportion) with a certain degree of confidence. It is a statistical measure that provides a range of values that is likely to contain the true population parameter with a certain level of probability.\n",
    "\n",
    "* Example:\n",
    "\n",
    "Suppose a researcher wants to estimate the average height of all adult males in a particular city. The researcher takes a random sample of 100 adult males and finds that the sample mean height is 175 cm, with a standard deviation of 10 cm. The researcher can use this information to calculate a 95% confidence interval.\n",
    "\n",
    "\n",
    "> Calculate the standard error: \n",
    "\n",
    "    Standard error = standard deviation / square root of sample size = 10 / sqrt(100)\n",
    "\n",
    ">Calculate the margin of error:\n",
    "\n",
    "    Margin of error = critical value * standard error The critical value for a 95% confidence interval with 99 degrees of freedom (n-1) is 1.984 (based on a t-distribution table). Margin of error = 1.984 * 1 = 1.984\n",
    "\n",
    ">Calculate the confidence interval: \n",
    "\n",
    "    Confidence interval = sample mean +/- margin of error = 175 +/- 1.984 = (173.016, 176.984)\n",
    "\n",
    "Therefore, we can say with 95% confidence that the true population mean height of adult males in the city lies between 173.016 cm and 176.984 cm."
   ]
  },
  {
   "cell_type": "markdown",
   "id": "1ee2f3a3-0e26-4f25-b5c4-3f7bc2f06663",
   "metadata": {},
   "source": [
    "## Use Bayes' Theorem to calculate the probability of an event occurring given prior knowledge of the event's probability and new evidence. Provide a sample problem and solution."
   ]
  },
  {
   "cell_type": "markdown",
   "id": "5a1e1d8e-67a5-47be-9116-ea1d99344f0f",
   "metadata": {},
   "source": [
    "Bayes' Theorem is a mathematical formula that is used to calculate conditional probabilities. It states that the probability of an event A given the occurrence of event B can be calculated as follows:\n",
    "\n",
    "P(A|B) = P(B|A) * P(A) / P(B)\n",
    "\n",
    "where P(A|B) is the probability of A given B, P(B|A) is the probability of B given A, P(A) is the prior probability of A, and P(B) is the prior probability of B.\n",
    "\n",
    "* Example\n",
    "\n",
    "Suppose a patient comes to a doctor with a certain set of symptoms, and the doctor wants to determine the probability of the patient having a particular disease. Let's assume that 1% of the population has the disease, and the diagnostic test has a false positive rate of 5% and a false negative rate of 1%.\n",
    "\n",
    "> Prior probability: P(Disease) = 0.01 (1% of the population has the disease)\n",
    "\n",
    "> False positive rate: P(Positive | No Disease) = 0.05 (5% of people without the disease will test positive)\n",
    "\n",
    "> False negative rate: P(Negative | Disease) = 0.01 (1% of people with the disease will test negative)\n",
    "\n",
    "> Marginal probability: P(Positive) = P(Positive | Disease) * P(Disease) + P(Positive | No Disease) * P(No Disease) = 0.99 * 0.01 + 0.05 * 0.99 = 0.0585\n",
    "\n",
    "> Using Bayes's theorem:\n",
    "\n",
    "    Probability of having the disease given a positive test result: P(Disease | Positive) = P(Positive | Disease) * P(Disease) / P(Positive) = 0.99 * 0.01 / 0.0585 = 0.1692 or 16.92%\n",
    "\n",
    "Therefore, even if the patient has a positive test result, there is still only a 16.92% chance that they actually have the disease"
   ]
  },
  {
   "cell_type": "markdown",
   "id": "27a02e75-7d54-41ec-94aa-a45c63d9dcb6",
   "metadata": {},
   "source": [
    "## Calculate the 95% confidence interval for a sample of data with a mean of 50 and a standard deviation of 5. Interpret the results."
   ]
  },
  {
   "cell_type": "raw",
   "id": "83d09687-e330-4b7d-825d-5fe6241f9db1",
   "metadata": {},
   "source": [
    "Given:\n",
    "mean = 50\n",
    "std = 5\n",
    "At 95% confidence interval = sample mean ± (1.96 * standard error)\n",
    "\n",
    "Since we don't have size so we assume from our side which is to be 100\n",
    "so\n",
    "CI = 50 ± 1.96*50/sqrt(100)\n",
    "    = (49.32 , 50.98)\n",
    "Confidence Interval = (49.32 , 50.98)"
   ]
  },
  {
   "cell_type": "markdown",
   "id": "fe54ef39-8148-4fcd-87de-02c959df7171",
   "metadata": {},
   "source": [
    "## What is the margin of error in a confidence interval? How does sample size affect the margin of error? Provide an example of a scenario where a larger sample size would result in a smaller margin of error."
   ]
  },
  {
   "cell_type": "markdown",
   "id": "3dd70914-85f2-41f7-bc44-9987acf4e167",
   "metadata": {},
   "source": [
    "__Margin of error in a confidence interval:__\n",
    "\n",
    "* The margin of error in a confidence interval is a measure of the amount of random error present in a survey's results.\n",
    "\n",
    "* It represents the range in which the true population parameter is likely to fall with a certain degree of confidence.\n",
    "\n",
    "__Parameter how does sample size affect the margin of error ::__\n",
    "* The margin of error is inversely proportional to the square root of the sample size. This means that as the sample size increases, the margin of error decreases.\n",
    "\n",
    "* A confidence interval is a range of values, calculated from a sample of data, that is likely to contain the true population parameter. The margin of error is the maximum amount by which this range might differ from the true population parameter.\n",
    "\n",
    "__Scenerio with Example:__\n",
    "> let's say you want to estimate the proportion of people in a city who support a particular political candidate. You conduct a survey of 100 people and find that 60% of them support the candidate. If you calculate a 95% confidence interval around this estimate, you might find that the margin of error is ±10%. This means that you can be 95% confident that the true proportion of people who support the candidate in the entire city is somewhere between 50% and 70%.\n",
    "\n",
    "> Now imagine that you conduct a survey of 1000 people and find that 60% of them support the candidate. If you calculate a 95% confidence interval around this estimate, you might find that the margin of error is only ±3%. This means that you can be 95% confident that the true proportion of people who support the candidate in the entire city is somewhere between 57% and 63%.\n",
    "\n",
    "__Conclusion from Example:__\n",
    "* Therefore, a larger sample size generally results in a smaller margin of error, as it reduces the effect of random sampling variation."
   ]
  },
  {
   "cell_type": "markdown",
   "id": "634450ac-df7e-466a-a051-03b9c125d0d2",
   "metadata": {},
   "source": [
    "## Calculate the z-score for a data point with a value of 75, a population mean of 70, and a population standard deviation of 5. Interpret the results."
   ]
  },
  {
   "cell_type": "raw",
   "id": "dbb1d520-153a-415e-89ba-733088cf497e",
   "metadata": {},
   "source": [
    "To calculate the z-score, we use the formula:\n",
    "\n",
    "z = (x - μ) / σ\n",
    "\n",
    "where:\n",
    "\n",
    "x is the value of the data point (x = 75)\n",
    "μ is the population mean (μ = 70)\n",
    "σ is the population standard deviation (σ = 5)\n",
    "Substituting the values into the formula, we get:\n",
    "\n",
    "z = (75 - 70) / 5 = 1\n",
    "\n",
    "So the z-score for the data point with a value of 75 is 1.\n",
    "\n",
    "Interpretation:\n",
    "A z-score of 1 means that the data point is 1 standard deviation above the population mean. Since the population standard deviation is 5, a z-score of 1 corresponds to a value of 1 * 5 = 5 units above the mean. Therefore, the data point of 75 is 5 units above the population mean of 70."
   ]
  },
  {
   "cell_type": "markdown",
   "id": "261b8300-ecf8-4cf4-8bb2-6499f98753e3",
   "metadata": {},
   "source": [
    "## In a study of the effectiveness of a new weight loss drug, a sample of 50 participants lost an average of 6 pounds with a standard deviation of 2.5 pounds. Conduct a hypothesis test to determine if the drug is significantly effective at a 95% confidence level using a t-test."
   ]
  },
  {
   "cell_type": "raw",
   "id": "0404489e-0d41-433a-be5d-dcbf65442a3a",
   "metadata": {},
   "source": [
    "Given:\n",
    "sample mean, x̄ = 6\n",
    "population mean under the null hypothesis, μ = 0\n",
    "sample standard deviation, s = 2.5\n",
    "sample size, n = 50\n",
    "\n",
    "Null hypothesis (H0): The mean weight loss for participants taking the new drug is not significantly different from zero.\n",
    "\n",
    "Alternative hypothesis (Ha): The mean weight loss for participants taking the new drug is significantly different from zero.\n",
    "\n",
    "We will use a two-tailed t-test at a 95% confidence level, which means our alpha level (the probability of making a Type I error) is 0.05. We will use the following formula to calculate the t-value:\n",
    "\n",
    "t value = (x̄ - μ) / (s / √n)\n",
    "t value = 16.97\n",
    "\n",
    "t critical at significance level of 0.05 is\n",
    "     = 2.01\n",
    "     \n",
    "Since,  our calculated t-value (16.97) is greater than the critical t (±2.01), we can reject the null hypothesis.\n",
    "Conclude that the mean weight loss for participants taking the new drug is significantly different from zero at a 95% confidence level."
   ]
  },
  {
   "cell_type": "code",
   "execution_count": 12,
   "id": "11d8112a-78a8-4f0f-9d14-46ee6ecfb588",
   "metadata": {},
   "outputs": [
    {
     "name": "stdout",
     "output_type": "stream",
     "text": [
      "Reject the null hypothesis as the value of t 16.970562748477143 is greater than critital t 2.0095752344892093\n",
      "The mean weight loss for participants taking the new drug is significantly different from zero\n"
     ]
    }
   ],
   "source": [
    "import math\n",
    "import scipy.stats as stat\n",
    "\n",
    "# Given:\n",
    "population_mean = 0\n",
    "size = 50\n",
    "sample_mean = 6\n",
    "std = 2.5\n",
    "alpha = 0.05\n",
    "\n",
    "'''\n",
    "Null hypothesis \n",
    "hypothesized mean = 0\n",
    "\n",
    "Alternate hypothesis\n",
    "popolation mean != 0\n",
    "\n",
    "we will apply two tail, t-test \n",
    "\n",
    "'''\n",
    "\n",
    "t_value = (sample_mean - population_mean) / (std / math.sqrt(size))\n",
    "\n",
    "t_critical= abs(stat.t.ppf( q = alpha/2, df = size-1 ))\n",
    "\n",
    "if t_value < t_critical:\n",
    "    print(f'Fail to reject null hypothesis as the value of t {t_value} is less than critical t {t_critical}')\n",
    "else:\n",
    "    print(f'Reject the null hypothesis as the value of t {t_value} is greater than critital t {t_critical}')\n",
    "    print('The mean weight loss for participants taking the new drug is significantly different from zero')"
   ]
  },
  {
   "cell_type": "markdown",
   "id": "3a012f4e-6d67-480b-be92-b9ff2ec8add2",
   "metadata": {},
   "source": [
    "## In a survey of 500 people, 65% reported being satisfied with their current job. Calculate the 95% confidence interval for the true proportion of people who are satisfied with their job."
   ]
  },
  {
   "cell_type": "raw",
   "id": "1d6cab7f-3d50-451d-8ced-04380e5b79d5",
   "metadata": {},
   "source": [
    "To calculate the 95% confidence interval for the true proportion of people who are satisfied with their job, we can use the following formula:\n",
    "\n",
    "CI = p ± z* (sqrt(p*(1-p)/n))\n",
    "\n",
    "where:\n",
    "\n",
    "p is the sample proportion (p = 0.65)\n",
    "z* is the critical z-value for a 95% confidence level, which is 1.96\n",
    "n is the sample size (n = 500)\n",
    "Substituting the values, we get:\n",
    "\n",
    "CI = 0.65 ± 1.96 * (sqrt(0.65*(1-0.65)/500))\n",
    "CI = 0.65 ± 0.041\n",
    "CI = (0.609, 0.691)\n",
    "\n",
    "Therefore, we can say with 95% confidence that the true proportion of people who are satisfied with their job is between 0.609 and 0.691. This means that if we were to repeat the survey many times and calculate the confidence interval each time, 95% of the intervals would contain the true proportion of satisfied workers.\n"
   ]
  },
  {
   "cell_type": "code",
   "execution_count": 16,
   "id": "6723698e-d5fd-4546-9455-53c4f149b539",
   "metadata": {},
   "outputs": [
    {
     "name": "stdout",
     "output_type": "stream",
     "text": [
      "95% Confidence Interval: (0.608191771144905, 0.6918082288550951)\n"
     ]
    }
   ],
   "source": [
    "\n",
    "import math \n",
    "\n",
    "# data \n",
    "p = 0.65\n",
    "z = 1.96  # 95% CI\n",
    "n = 500\n",
    "\n",
    "# Calculate the standard error\n",
    "s_error = math.sqrt((p*(1-p))/n)\n",
    "\n",
    "# calculate the margin of error\n",
    "m_error  = z * s_error\n",
    "\n",
    "\n",
    "# Calculate the lower and upper bounds of the confidence interval\n",
    "lower_bound = p - m_error\n",
    "upper_bound = p + m_error\n",
    "\n",
    "\n",
    "\n",
    "# Print the results\n",
    "print(f\"95% Confidence Interval: ({lower_bound}, {upper_bound})\")"
   ]
  },
  {
   "cell_type": "markdown",
   "id": "e4d7b248-2f37-403f-9b00-60501d9f60d6",
   "metadata": {},
   "source": [
    "## A researcher is testing the effectiveness of two different teaching methods on student performance. Sample A has a mean score of 85 with a standard deviation of 6, while sample B has a mean score of 82 with a standard deviation of 5. Conduct a hypothesis test to determine if the two teaching methods have a significant difference in student performance using a t-test with a significance level of 0.01."
   ]
  },
  {
   "cell_type": "code",
   "execution_count": 29,
   "id": "6ede6688-4162-4793-ab18-b4a2f8156b3c",
   "metadata": {},
   "outputs": [
    {
     "name": "stdout",
     "output_type": "stream",
     "text": [
      "Fail to reject the null hypothesis. There is no significant difference in student performance between the two teaching methods.\n",
      "p-value = 0.014955335674135631\n"
     ]
    }
   ],
   "source": [
    "import numpy as np\n",
    "from scipy import stats\n",
    "\n",
    "# Sample A (Assuming sample size to be 50 for both the samples)\n",
    "x1 = 85\n",
    "s1 = 6\n",
    "n1 = 50 \n",
    "\n",
    "# Sample B\n",
    "x2 = 82\n",
    "s2 = 5\n",
    "n2 = 50\n",
    "\n",
    "# H0: The mean score of sample A is not significantly different from the mean score of sample B.\n",
    "# H1: The mean score of sample A is significantly different from the mean score of sample B.\n",
    "\n",
    "# Generating two samples from two populations\n",
    "np.random.seed(132)\n",
    "sample_1 = np.random.normal(loc=85 , scale=6, size=50)\n",
    "sample_2 = np.random.normal(loc=82 , scale=5, size=50)\n",
    "\n",
    "# hypothesis test on the difference between the means of the two populations\n",
    "alpha = 0.01\n",
    "stat, p_val = stats.ttest_ind(sample_1, sample_2)\n",
    "\n",
    "\n",
    "# Compare the p-value to the significance level and draw a conclusion\n",
    "if p_val < alpha:\n",
    "    print(\"Reject the null hypothesis.\")\n",
    "else:\n",
    "    print(\"Fail to reject the null hypothesis. There is no significant difference in student performance between the two teaching methods.\")\n",
    "    print(f'p-value = {p_val}')"
   ]
  },
  {
   "cell_type": "markdown",
   "id": "75bc7565-05bf-4449-bf23-d766d9a7958f",
   "metadata": {},
   "source": [
    "## A population has a mean of 60 and a standard deviation of 8. A sample of 50 observations has a mean of 65. Calculate the 90% confidence interval for the true population mean."
   ]
  },
  {
   "cell_type": "raw",
   "id": "4e9c2c40-f1ad-4aea-854c-c2adcbe51c31",
   "metadata": {},
   "source": [
    "Given:\n",
    "x̄ = 65\n",
    "n= 50\n",
    "σ= 8\n",
    "\n",
    "Significance level = 0.1\n",
    "\n",
    "# for 2 boundaries \n",
    "z = 1.645\n",
    "\n",
    "CI = x̄ ± z*(σ/√n)\n",
    "   = 65 ± 1.645*(8/√50)\n",
    "   = 65 ± 2.298\n",
    "\n",
    "CI = (62.702, 67.298)\n",
    "\n",
    "We are 90% confident that the true population mean falls within this interval."
   ]
  },
  {
   "cell_type": "markdown",
   "id": "d6b386b3-7f6f-4cb8-a18e-d56478f25456",
   "metadata": {},
   "source": [
    "## In a study of the effects of caffeine on reaction time, a sample of 30 participants had an average reaction time of 0.25 seconds with a standard deviation of 0.05 seconds. Conduct a hypothesis test to determine if the caffeine has a significant effect on reaction time at a 90% confidence level using a t-test."
   ]
  },
  {
   "cell_type": "raw",
   "id": "3c9a19ee-a218-479f-beab-70625fd775d5",
   "metadata": {},
   "source": [
    "The null hypothesis (H0)\n",
    "is that there is no significant effect of caffeine on reaction time H0: μ = 0.25\n",
    "\n",
    "the alternative hypothesis (Ha)\n",
    "is that there is a significant effect of caffeine on reaction time. Ha: μ ≠ 0.25\n",
    "\n",
    "select the test:\n",
    "Next, we can calculate the t-value using the formula:\n",
    "t = (x̄ - μ) / (s / √n)\n",
    "\n",
    "t = (0.25 - 0.25) / (0.05 / √30)\n",
    "\n",
    "t = 0 / 0.009144\n",
    "\n",
    "t = 0\n",
    "\n",
    "calcute the critical value (two-tailed)\n",
    "alpha = 0.1\n",
    "\n",
    "Degree of freedom = n-1 => 29\n",
    "\n",
    "Critical_value= 1.699\n",
    "\n",
    "Since the calculated t-value (0) is within the confidence interval (-1.699 to +1.699),\n",
    "\n",
    "conclusion:\n",
    "we fail to reject the null hypothesis.\n",
    "\n",
    "This means that we do not have sufficient evidence to conclude that caffeine has a significant effect on reaction time at a 90% confidence level."
   ]
  }
 ],
 "metadata": {
  "kernelspec": {
   "display_name": "Python 3 (ipykernel)",
   "language": "python",
   "name": "python3"
  },
  "language_info": {
   "codemirror_mode": {
    "name": "ipython",
    "version": 3
   },
   "file_extension": ".py",
   "mimetype": "text/x-python",
   "name": "python",
   "nbconvert_exporter": "python",
   "pygments_lexer": "ipython3",
   "version": "3.10.8"
  }
 },
 "nbformat": 4,
 "nbformat_minor": 5
}
